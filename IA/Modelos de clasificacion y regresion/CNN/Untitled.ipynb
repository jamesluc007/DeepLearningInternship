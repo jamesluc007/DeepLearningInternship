{
 "cells": [
  {
   "cell_type": "code",
   "execution_count": 101,
   "metadata": {},
   "outputs": [],
   "source": [
    "import tensorflow as tf\n",
    "import tensorflow.keras as kr\n",
    "\n",
    "import matplotlib.pyplot as plt\n",
    "import numpy as np"
   ]
  },
  {
   "cell_type": "code",
   "execution_count": 102,
   "metadata": {},
   "outputs": [],
   "source": [
    "from keras import backend as K"
   ]
  },
  {
   "cell_type": "code",
   "execution_count": 103,
   "metadata": {},
   "outputs": [],
   "source": [
    "from keras.models import Sequential\n",
    "from keras.layers import Conv2D, MaxPooling2D\n",
    "from keras.layers import Activation, Dropout, Flatten, Dense\n",
    "from keras.preprocessing.image import ImageDataGenerator\n",
    "from keras.preprocessing import image #Esto permite manipular imagenes\n",
    "\n",
    "lr = 0.01\n",
    "nn = [32, 32, 64, 64,1]  # número de neuronas por capa.\n",
    "#Conv2d de 32\n",
    "#Conv2d de 32\n",
    "#Conv2d de 64\n",
    "#Dense de 64\n",
    "#Dense de 1. Esto es porque la red tiene dos salidas entonces con una sola neurona (0 o 1) alcanza."
   ]
  },
  {
   "cell_type": "code",
   "execution_count": 104,
   "metadata": {
    "scrolled": true
   },
   "outputs": [],
   "source": [
    "model = Sequential()\n",
    "model.add(Conv2D(nn[0], (3, 3), input_shape=(150, 150, 3))) #Aca se esta agregando un nn[0] filtros de convolucion (o sea 32)\n",
    "# Cada filtro es de 3x3 y la entrada a esta capa es de 150x150 y de 3 canales\n",
    "model.add(Activation('relu')) #La funcion de activacion es ReLU\n",
    "model.add(MaxPooling2D(pool_size=(2, 2))) #Se hace un MaxPool de 2x2 para downsamplear la entrada y asi reducir el overfitting\n",
    "\n",
    "model.add(Conv2D(nn[1], (3, 3)))\n",
    "model.add(Activation('relu'))\n",
    "model.add(MaxPooling2D(pool_size=(2, 2)))\n",
    "\n",
    "model.add(Conv2D(nn[2], (3, 3)))\n",
    "model.add(Activation('relu'))\n",
    "model.add(MaxPooling2D(pool_size=(2, 2)))\n",
    "\n"
   ]
  },
  {
   "cell_type": "code",
   "execution_count": 105,
   "metadata": {},
   "outputs": [],
   "source": [
    "model.add(Flatten())  # this converts our 3D feature maps to 1D feature vectors\n",
    "model.add(Dense(nn[3])) #Perceptron multi capa, 64 neuronas\n",
    "model.add(Activation('relu')) \n",
    "model.add(Dropout(0.5)) #Eliminas el 50% de las neuronas reduciendo asi el overfitting\n",
    "model.add(Dense(nn[4])) #Una neurona solita\n",
    "model.add(Activation('sigmoid')) #Sigmoide en vez de ReLU para que la salida sea mas binaria\n",
    "\n",
    "model.compile(loss='binary_crossentropy', #Funcion de perdida\n",
    "              optimizer='rmsprop', #Optimizador\n",
    "              metrics=['accuracy']) #Metricas"
   ]
  },
  {
   "cell_type": "code",
   "execution_count": 106,
   "metadata": {},
   "outputs": [
    {
     "name": "stdout",
     "output_type": "stream",
     "text": [
      "Found 1937 images belonging to 2 classes.\n",
      "Found 833 images belonging to 2 classes.\n"
     ]
    }
   ],
   "source": [
    "batch_size = 16\n",
    "\n",
    "# this is the augmentation configuration we will use for training\n",
    "train_datagen = ImageDataGenerator(\n",
    "        rescale=1./255,\n",
    "        shear_range=0.2,\n",
    "        zoom_range=0.2,\n",
    "        horizontal_flip=True)\n",
    "\n",
    "# this is the augmentation configuration we will use for testing:\n",
    "# only rescaling\n",
    "test_datagen = ImageDataGenerator(rescale=1./255)\n",
    "\n",
    "# this is a generator that will read pictures found in\n",
    "# subfolers of 'data/train', and indefinitely generate\n",
    "# batches of augmented image data\n",
    "train_generator = train_datagen.flow_from_directory(\n",
    "        'Dataset/Training',  # this is the target directory\n",
    "        target_size=(150, 150),  # all images will be resized to 150x150\n",
    "        batch_size=batch_size,\n",
    "        class_mode='binary')  # since we use binary_crossentropy loss, we need binary labels\n",
    "\n",
    "# this is a similar generator, for validation data\n",
    "validation_generator = test_datagen.flow_from_directory(\n",
    "        'Dataset/Test',\n",
    "        target_size=(150, 150),\n",
    "        batch_size=batch_size,\n",
    "        class_mode='binary')"
   ]
  },
  {
   "cell_type": "code",
   "execution_count": 107,
   "metadata": {
    "scrolled": false
   },
   "outputs": [
    {
     "name": "stdout",
     "output_type": "stream",
     "text": [
      "Epoch 1/50\n",
      "125/125 [==============================] - 160s 1s/step - loss: 0.5332 - acc: 0.7720 - val_loss: 0.4648 - val_acc: 0.8200\n",
      "Epoch 2/50\n",
      "125/125 [==============================] - 156s 1s/step - loss: 0.4149 - acc: 0.8345 - val_loss: 0.4289 - val_acc: 0.8586\n",
      "Epoch 3/50\n",
      "125/125 [==============================] - 155s 1s/step - loss: 0.3994 - acc: 0.8475 - val_loss: 0.3258 - val_acc: 0.8790\n",
      "Epoch 4/50\n",
      "125/125 [==============================] - 153s 1s/step - loss: 0.4096 - acc: 0.8440 - val_loss: 0.3211 - val_acc: 0.8713\n",
      "Epoch 5/50\n",
      "125/125 [==============================] - 153s 1s/step - loss: 0.3799 - acc: 0.8476 - val_loss: 0.3255 - val_acc: 0.8726\n",
      "Epoch 6/50\n",
      "125/125 [==============================] - 153s 1s/step - loss: 0.3636 - acc: 0.8535 - val_loss: 0.3420 - val_acc: 0.8841\n",
      "Epoch 7/50\n",
      "125/125 [==============================] - 153s 1s/step - loss: 0.3428 - acc: 0.8665 - val_loss: 0.3403 - val_acc: 0.8471\n",
      "Epoch 8/50\n",
      "125/125 [==============================] - 154s 1s/step - loss: 0.3457 - acc: 0.8600 - val_loss: 0.3299 - val_acc: 0.8662\n",
      "Epoch 9/50\n",
      "125/125 [==============================] - 153s 1s/step - loss: 0.3417 - acc: 0.8670 - val_loss: 0.2648 - val_acc: 0.8981\n",
      "Epoch 10/50\n",
      "125/125 [==============================] - 153s 1s/step - loss: 0.3646 - acc: 0.8541 - val_loss: 0.2595 - val_acc: 0.8866\n",
      "Epoch 11/50\n",
      "125/125 [==============================] - 153s 1s/step - loss: 0.3208 - acc: 0.8735 - val_loss: 0.3606 - val_acc: 0.8892\n",
      "Epoch 12/50\n",
      "125/125 [==============================] - 153s 1s/step - loss: 0.3163 - acc: 0.8715 - val_loss: 0.3548 - val_acc: 0.8917\n",
      "Epoch 13/50\n",
      "125/125 [==============================] - 154s 1s/step - loss: 0.3444 - acc: 0.8735 - val_loss: 0.3089 - val_acc: 0.9057\n",
      "Epoch 14/50\n",
      "125/125 [==============================] - 153s 1s/step - loss: 0.3104 - acc: 0.8665 - val_loss: 0.2287 - val_acc: 0.9070\n",
      "Epoch 15/50\n",
      "125/125 [==============================] - 153s 1s/step - loss: 0.3104 - acc: 0.8800 - val_loss: 0.4087 - val_acc: 0.8497\n",
      "Epoch 16/50\n",
      "125/125 [==============================] - 153s 1s/step - loss: 0.3097 - acc: 0.8825 - val_loss: 0.3202 - val_acc: 0.8879\n",
      "Epoch 17/50\n",
      "125/125 [==============================] - 153s 1s/step - loss: 0.3055 - acc: 0.8830 - val_loss: 0.2596 - val_acc: 0.9083\n",
      "Epoch 18/50\n",
      "125/125 [==============================] - 154s 1s/step - loss: 0.3138 - acc: 0.8840 - val_loss: 0.3487 - val_acc: 0.8925\n",
      "Epoch 19/50\n",
      "125/125 [==============================] - 155s 1s/step - loss: 0.3032 - acc: 0.8815 - val_loss: 0.2896 - val_acc: 0.8879\n",
      "Epoch 20/50\n",
      "125/125 [==============================] - 153s 1s/step - loss: 0.3111 - acc: 0.8750 - val_loss: 0.2592 - val_acc: 0.8968\n",
      "Epoch 21/50\n",
      "125/125 [==============================] - 153s 1s/step - loss: 0.2849 - acc: 0.8965 - val_loss: 0.3433 - val_acc: 0.8955\n",
      "Epoch 22/50\n",
      "125/125 [==============================] - 154s 1s/step - loss: 0.3113 - acc: 0.8930 - val_loss: 0.2509 - val_acc: 0.9096\n",
      "Epoch 23/50\n",
      "125/125 [==============================] - 154s 1s/step - loss: 0.2979 - acc: 0.8855 - val_loss: 0.3056 - val_acc: 0.8994\n",
      "Epoch 24/50\n",
      "125/125 [==============================] - 153s 1s/step - loss: 0.2819 - acc: 0.8890 - val_loss: 0.4105 - val_acc: 0.8828\n",
      "Epoch 25/50\n",
      "125/125 [==============================] - 155s 1s/step - loss: 0.2783 - acc: 0.8980 - val_loss: 0.3154 - val_acc: 0.8968\n",
      "Epoch 26/50\n",
      "125/125 [==============================] - 154s 1s/step - loss: 0.2974 - acc: 0.8860 - val_loss: 0.2618 - val_acc: 0.8968\n",
      "Epoch 27/50\n",
      "125/125 [==============================] - 153s 1s/step - loss: 0.3155 - acc: 0.8851 - val_loss: 0.2796 - val_acc: 0.9185\n",
      "Epoch 28/50\n",
      "125/125 [==============================] - 153s 1s/step - loss: 0.2946 - acc: 0.8950 - val_loss: 0.3523 - val_acc: 0.9045\n",
      "Epoch 29/50\n",
      "125/125 [==============================] - 154s 1s/step - loss: 0.3672 - acc: 0.8821 - val_loss: 0.2515 - val_acc: 0.9108\n",
      "Epoch 30/50\n",
      "125/125 [==============================] - 154s 1s/step - loss: 0.3056 - acc: 0.8990 - val_loss: 0.6969 - val_acc: 0.8127\n",
      "Epoch 31/50\n",
      "125/125 [==============================] - 154s 1s/step - loss: 0.2934 - acc: 0.8870 - val_loss: 0.3044 - val_acc: 0.8739\n",
      "Epoch 32/50\n",
      "125/125 [==============================] - 154s 1s/step - loss: 0.2823 - acc: 0.8870 - val_loss: 0.5756 - val_acc: 0.8510\n",
      "Epoch 33/50\n",
      "125/125 [==============================] - 153s 1s/step - loss: 0.2748 - acc: 0.9030 - val_loss: 0.2553 - val_acc: 0.8981\n",
      "Epoch 34/50\n",
      "125/125 [==============================] - 154s 1s/step - loss: 0.2986 - acc: 0.9025 - val_loss: 0.2666 - val_acc: 0.9083\n",
      "Epoch 35/50\n",
      "125/125 [==============================] - 154s 1s/step - loss: 0.2396 - acc: 0.9020 - val_loss: 0.6634 - val_acc: 0.7745\n",
      "Epoch 36/50\n",
      "125/125 [==============================] - 157s 1s/step - loss: 0.2644 - acc: 0.8985 - val_loss: 0.2321 - val_acc: 0.9038\n",
      "Epoch 37/50\n",
      "125/125 [==============================] - 154s 1s/step - loss: 0.2896 - acc: 0.8965 - val_loss: 0.3474 - val_acc: 0.8739\n",
      "Epoch 38/50\n",
      "125/125 [==============================] - 153s 1s/step - loss: 0.2689 - acc: 0.9105 - val_loss: 0.3971 - val_acc: 0.8777\n",
      "Epoch 39/50\n",
      "125/125 [==============================] - 153s 1s/step - loss: 0.2669 - acc: 0.9065 - val_loss: 0.3209 - val_acc: 0.8841\n",
      "Epoch 40/50\n",
      "125/125 [==============================] - 153s 1s/step - loss: 0.2498 - acc: 0.9070 - val_loss: 0.6083 - val_acc: 0.8548\n",
      "Epoch 41/50\n",
      "125/125 [==============================] - 153s 1s/step - loss: 0.2514 - acc: 0.9105 - val_loss: 0.3801 - val_acc: 0.8624\n",
      "Epoch 42/50\n",
      "125/125 [==============================] - 156s 1s/step - loss: 0.2885 - acc: 0.9070 - val_loss: 0.4964 - val_acc: 0.8420\n",
      "Epoch 43/50\n",
      "125/125 [==============================] - 154s 1s/step - loss: 0.2711 - acc: 0.9080 - val_loss: 0.2722 - val_acc: 0.9070\n",
      "Epoch 44/50\n",
      "125/125 [==============================] - 154s 1s/step - loss: 0.2638 - acc: 0.9095 - val_loss: 0.4556 - val_acc: 0.8522\n",
      "Epoch 45/50\n",
      "125/125 [==============================] - 153s 1s/step - loss: 0.2401 - acc: 0.9175 - val_loss: 0.3700 - val_acc: 0.8904\n",
      "Epoch 46/50\n",
      "125/125 [==============================] - 154s 1s/step - loss: 0.2517 - acc: 0.9160 - val_loss: 0.2518 - val_acc: 0.9197\n",
      "Epoch 47/50\n",
      "125/125 [==============================] - 154s 1s/step - loss: 0.2755 - acc: 0.9066 - val_loss: 0.4624 - val_acc: 0.8522\n",
      "Epoch 48/50\n",
      "125/125 [==============================] - 156s 1s/step - loss: 0.2561 - acc: 0.9040 - val_loss: 0.2703 - val_acc: 0.9146\n",
      "Epoch 49/50\n",
      "125/125 [==============================] - 153s 1s/step - loss: 0.2418 - acc: 0.9096 - val_loss: 0.2792 - val_acc: 0.8892\n",
      "Epoch 50/50\n",
      "125/125 [==============================] - 154s 1s/step - loss: 0.2407 - acc: 0.9065 - val_loss: 0.2498 - val_acc: 0.8994\n"
     ]
    }
   ],
   "source": [
    "model.fit_generator(\n",
    "        train_generator,\n",
    "        steps_per_epoch=2000 // batch_size,\n",
    "        epochs=50,\n",
    "        validation_data=validation_generator,\n",
    "        validation_steps=800 // batch_size)\n",
    "model.save_weights('third_try.h5')  # always save your weights after training or during training"
   ]
  },
  {
   "cell_type": "code",
   "execution_count": 90,
   "metadata": {},
   "outputs": [],
   "source": [
    "#model.load_weights('first_try.h5') #El primer entrenamiento fue de 4 epochs y llego a 88% de accuracy de validation"
   ]
  },
  {
   "cell_type": "code",
   "execution_count": 112,
   "metadata": {
    "scrolled": true
   },
   "outputs": [
    {
     "name": "stdout",
     "output_type": "stream",
     "text": [
      "(1, 150, 150, 3)\n"
     ]
    },
    {
     "data": {
      "image/png": "[encoded data removed]",
      "text/plain": [
       "<Figure size 432x288 with 1 Axes>"
      ]
     },
     "metadata": {
      "needs_background": "light"
     },
     "output_type": "display_data"
    }
   ],
   "source": [
    "x = image.load_img(\"./lechuga2.jpg\", target_size=(150,150)) #Cargo la imagen y la reshapeo a 299x299 para que sea compatible\n",
    "#con la red neuronal que pide ese tamaño de entrada\n",
    "\n",
    "x = image.img_to_array(x) #La convierto en matriz\n",
    "\n",
    "x = (x/255.)\n",
    "\n",
    "plt.imshow(x)\n",
    "\n",
    "x3 = x.reshape(1,x.shape[0],x.shape[1],x.shape[2]) #Listo. Por que esto es asi? Esto lo podes ver en la documentacion de keras\n",
    "#Siempre que uses una red nueva que ya venga entrenada, debes leer bien la documentacion\n",
    "\n",
    "print(x3.shape)"
   ]
  },
  {
   "cell_type": "code",
   "execution_count": 113,
   "metadata": {},
   "outputs": [
    {
     "name": "stdout",
     "output_type": "stream",
     "text": [
      "Es una banana\n",
      "porcentaje de lechuga: \n",
      "[[33.851208]]\n",
      "porcentaje de banana: \n",
      "[[66.14879]]\n"
     ]
    }
   ],
   "source": [
    "y1 = model.predict(x3)\n",
    "\n",
    "if y1 > 0.5:\n",
    "    print(\"Es una lechuga\")\n",
    "else:\n",
    "    print(\"Es una banana\")\n",
    "\n",
    "print(\"porcentaje de lechuga: \")\n",
    "print(y1*100)\n",
    "print(\"porcentaje de banana: \")\n",
    "print(100-y1*100)"
   ]
  }
 ],
 "metadata": {
  "kernelspec": {
   "display_name": "Python 3",
   "language": "python",
   "name": "python3"
  },
  "language_info": {
   "codemirror_mode": {
    "name": "ipython",
    "version": 3
   },
   "file_extension": ".py",
   "mimetype": "text/x-python",
   "name": "python",
   "nbconvert_exporter": "python",
   "pygments_lexer": "ipython3",
   "version": "3.7.3"
  }
 },
 "nbformat": 4,
 "nbformat_minor": 2
}
