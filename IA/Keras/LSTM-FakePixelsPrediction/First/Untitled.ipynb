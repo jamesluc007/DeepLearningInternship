{
 "cells": [
  {
   "cell_type": "code",
   "execution_count": 69,
   "metadata": {},
   "outputs": [],
   "source": [
    "import tensorflow as tf\n",
    "import tensorflow.keras as kr\n",
    "\n",
    "import numpy as np\n",
    "import scipy as sc\n",
    "import matplotlib.pyplot as plt\n",
    "import math as mth\n",
    "import random as random\n",
    "\n",
    "from keras.models import Sequential\n",
    "from keras.layers import Dense, Dropout\n",
    "from keras.layers import Embedding\n",
    "from keras.layers import LSTM"
   ]
  },
  {
   "cell_type": "code",
   "execution_count": 70,
   "metadata": {},
   "outputs": [],
   "source": [
    "#DECLARACION DE CLASES\n",
    "#Los vectores de 8 elementos se llaman X (x mayuscula)\n",
    "#Voy a generar un vector Y que es un vector de 1000 elemenos X. Con Y vamos a entrenar la red.\n",
    "\n",
    "class pixel:\n",
    "    #esta es la clase pixel, contiene tres canales de entre 0 y 255 cada uno\n",
    "    #por una cuestion de entendimiento los canales se van a llamar R,G y B pero no tiene nada que ver con los colores en si,\n",
    "    #son solo numeros\n",
    "    def __init__(self,tiempo,frecR = 1,frecG = 2, frecB = 5):\n",
    "        a = mth.floor(random.uniform(0,10)) #Aqui esta la aleatoriedad necesaria para entrenar bien\n",
    "        b = mth.floor(random.uniform(0,10))\n",
    "        self.R = mth.floor((127 * mth.sin(frecR*tiempo + a)) + 128 + b) #Aqui genero los tres canales del pixel\n",
    "        self.G = mth.floor((127 * mth.sin(frecG*tiempo + a)) + 128 + b)\n",
    "        self.B = mth.floor((127 * mth.sin(frecB*tiempo + a)) + 128 + b)\n",
    "        #Esto se hace para que los valores sigan dentro del rango 0-255 :\n",
    "        if self.R > 255: \n",
    "            self.R = 255\n",
    "        if self.G > 255: \n",
    "            self.G = 255\n",
    "        if self.B > 255: \n",
    "            self.B = 255\n",
    "        if self.R < 0: \n",
    "            self.R = 0\n",
    "        if self.G < 0: \n",
    "            self.G = 0\n",
    "        if self.B < 0: \n",
    "            self.B = 0\n",
    "    def getData(self): #Esto es para visualizar rapido en caso de que sea necesario\n",
    "        print(\"R:\",self.R, \"G:\",self.G, \"B:\", self.B)\n",
    "        \n",
    "class pixels(list): #Esta es la clase de 8 elementos (cada elemento es un pixel)\n",
    "    def fillWithPixels(self, cantElementos = 8):\n",
    "        for x in range(cantElementos):\n",
    "            #print(\"Iteracion numero \", x)\n",
    "            self.append(pixel(x))"
   ]
  },
  {
   "cell_type": "code",
   "execution_count": 71,
   "metadata": {},
   "outputs": [
    {
     "name": "stdout",
     "output_type": "stream",
     "text": [
      "R: 243 G: 243 B: 243\n",
      "R: 255 G: 189 B: 68\n",
      "R: 62 G: 63 B: 36\n",
      "R: 99 G: 187 B: 39\n",
      "R: 183 G: 184 B: 114\n",
      "R: 185 G: 36 B: 255\n",
      "R: 7 G: 11 B: 79\n",
      "R: 254 G: 235 B: 12\n"
     ]
    }
   ],
   "source": [
    "#prueba:\n",
    "X = pixels()\n",
    "X.fillWithPixels()\n",
    "X[0].getData()\n",
    "X[1].getData()\n",
    "X[2].getData()\n",
    "X[3].getData()\n",
    "X[4].getData()\n",
    "X[5].getData()\n",
    "X[6].getData()\n",
    "X[7].getData()"
   ]
  },
  {
   "cell_type": "code",
   "execution_count": 72,
   "metadata": {},
   "outputs": [
    {
     "name": "stdout",
     "output_type": "stream",
     "text": [
      "R: 5 G: 214 B: 253\n"
     ]
    }
   ],
   "source": [
    "#GENERACION DEL DATASET DE ENTRENAMIENTO\n",
    "#Quiero una matriz de 1000 filas. Cada fila es un vector de pixels.\n",
    "\n",
    "size = 1000\n",
    "dataset = []\n",
    "\n",
    "for x in range(size):\n",
    "    dataset.append(pixels())\n",
    "    dataset[x].fillWithPixels()        \n",
    "\n",
    "    \n",
    "#prueba:\n",
    "\n",
    "dataset[258][4].getData()"
   ]
  },
  {
   "cell_type": "code",
   "execution_count": 73,
   "metadata": {},
   "outputs": [],
   "source": [
    "#PREPARACION DEL DATASET PARA ENTRENAMIENTO\n",
    "#Aqui voy a preparar el dataset para que sea compatible con la red y pueda ser usado para entrenarla:\n",
    "#Seguramente tenga que convertir todo a tensores con las librerias scipy y/o numpy"
   ]
  },
  {
   "cell_type": "code",
   "execution_count": 77,
   "metadata": {},
   "outputs": [],
   "source": [
    "#DEFINICION DE ARQUITECTURA DE RED NEURONAL\n",
    "#Seguir desde aca\n",
    "\n",
    "model = Sequential()\n",
    "#model.add(Embedding(max_features, output_dim=256))\n",
    "#model.add(LSTM(128))\n",
    "#model.add(Dropout(0.5))\n",
    "#model.add(Dense(1, activation='sigmoid'))"
   ]
  },
  {
   "cell_type": "code",
   "execution_count": 78,
   "metadata": {},
   "outputs": [],
   "source": [
    "#COMPILACION DE LA RED\n",
    "#model.compile(loss='binary_crossentropy',\n",
    "              #optimizer='rmsprop',\n",
    "              #metrics=['accuracy'])"
   ]
  },
  {
   "cell_type": "code",
   "execution_count": 79,
   "metadata": {},
   "outputs": [],
   "source": [
    "#ENTRENAMIENTO DE LA RED\n",
    "#model.fit(x_train, y_train, batch_size=16, epochs=10)\n",
    "#score = model.evaluate(x_test, y_test, batch_size=16)"
   ]
  }
 ],
 "metadata": {
  "kernelspec": {
   "display_name": "Python 3",
   "language": "python",
   "name": "python3"
  },
  "language_info": {
   "codemirror_mode": {
    "name": "ipython",
    "version": 3
   },
   "file_extension": ".py",
   "mimetype": "text/x-python",
   "name": "python",
   "nbconvert_exporter": "python",
   "pygments_lexer": "ipython3",
   "version": "3.7.3"
  }
 },
 "nbformat": 4,
 "nbformat_minor": 2
}
