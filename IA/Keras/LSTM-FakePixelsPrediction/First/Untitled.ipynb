{
 "cells": [
  {
   "cell_type": "code",
   "execution_count": 1,
   "metadata": {},
   "outputs": [
    {
     "name": "stderr",
     "output_type": "stream",
     "text": [
      "Using TensorFlow backend.\n"
     ]
    }
   ],
   "source": [
    "import tensorflow as tf\n",
    "import tensorflow.keras as kr\n",
    "import keras\n",
    "import numpy as np\n",
    "import scipy as sc\n",
    "import matplotlib.pyplot as plt\n",
    "import math as mth\n",
    "import random as random\n",
    "\n",
    "from keras.models import Sequential\n",
    "from keras.layers import Dense, Dropout\n",
    "from keras.layers import Embedding\n",
    "from keras.layers import LSTM\n",
    "\n",
    "from keras.optimizers import RMSprop"
   ]
  },
  {
   "cell_type": "code",
   "execution_count": 296,
   "metadata": {},
   "outputs": [],
   "source": [
    "#DECLARACION DE CLASES\n",
    "#Los vectores de 8 elementos se llaman \"pixels\" porque son un conjunto de elementos \"pixel\"\n",
    "#Voy a generar un vector \"dataset\" que es un vector de 10000 elemenos de tipo \"pixels\"\n",
    "\n",
    "class pixel:\n",
    "    #esta es la clase pixel, contiene tres canales de enteros de rango 0 a 255 cada uno\n",
    "    #por una cuestion de entendimiento los canales se van a llamar R,G y B pero no tiene nada que ver con los colores en si,\n",
    "    #son solo numeros\n",
    "    def __init__(self,tiempo, a=0, b=0,A=127,frecR = 0.05,frecG = 2, frecB = 5):\n",
    "        self.R = mth.floor((A * mth.sin(frecR*tiempo + a)) + (A+1) + b)#Aqui genero los tres canales del pixel\n",
    "        self.G = mth.floor((A * mth.sin(frecG*tiempo + a)) + (A+1) + b)\n",
    "        self.B = mth.floor((A * mth.sin(frecB*tiempo + a)) + (A+1) + b)\n",
    "        #Esto se hace para que los valores sigan dentro del rango 0-255 :\n",
    "        if self.R > 255: \n",
    "            self.R = 255\n",
    "        if self.G > 255: \n",
    "            self.G = 255\n",
    "        if self.B > 255: \n",
    "            self.B = 255\n",
    "        if self.R < 0: \n",
    "            self.R = 0\n",
    "        if self.G < 0: \n",
    "            self.G = 0\n",
    "        if self.B < 0: \n",
    "            self.B = 0\n",
    "    def getData(self): #Esto es para visualizar rapido en caso de que sea necesario\n",
    "        print(\"R:\",self.R, \"G:\",self.G, \"B:\", self.B)\n",
    "        \n",
    "class pixels(list): #Esta es la clase de 8 elementos (cada elemento es un pixel)\n",
    "    def fillWithPixels(self, frecR = 0.05 ,b=0,cantElementos = 8):\n",
    "        a = mth.floor(random.uniform(0,10)) #Aqui esta la aleatoriedad necesaria para entrenar bien\n",
    "        for x in range(cantElementos*5):\n",
    "            #print(\"Iteracion numero \", x)\n",
    "            if(x % 5 == 0):\n",
    "                self.append(pixel(x,a,b,127,frecR))"
   ]
  },
  {
   "cell_type": "code",
   "execution_count": 78,
   "metadata": {},
   "outputs": [
    {
     "name": "stdout",
     "output_type": "stream",
     "text": [
      "R: 180 G: 180 B: 180\n",
      "R: 150 G: 147 B: 195\n",
      "R: 118 G: 43 B: 208\n",
      "R: 87 G: 250 B: 221\n",
      "R: 58 G: 6 B: 231\n",
      "R: 34 G: 208 B: 240\n",
      "R: 16 G: 113 B: 247\n",
      "R: 4 G: 71 B: 252\n"
     ]
    }
   ],
   "source": [
    "#prueba:\n",
    "X = pixels()\n",
    "X.fillWithPixels()\n",
    "X[0].getData()\n",
    "X[1].getData()\n",
    "X[2].getData()\n",
    "X[3].getData()\n",
    "X[4].getData()\n",
    "X[5].getData()\n",
    "X[6].getData()\n",
    "X[7].getData()"
   ]
  },
  {
   "cell_type": "code",
   "execution_count": 298,
   "metadata": {},
   "outputs": [
    {
     "name": "stdout",
     "output_type": "stream",
     "text": [
      "R: 180 G: 30 B: 245\n"
     ]
    }
   ],
   "source": [
    "#GENERACION DEL DATASET DE ENTRENAMIENTO\n",
    "#Quiero una lista de 10000 elementos. Cada elemento es un vector de pixels. Es decir dataset1 y dataset2 son listas de 10000 elementos de pixels.\n",
    "#Cada uno de ellos es un conjunto de 8 elementos pixel\n",
    "\n",
    "size = 10000\n",
    "dataset1 = [] #Para entrenamiento\n",
    "dataset2 = [] #Para testeo\n",
    "\n",
    "for x in range(size): \n",
    "    dataset1.append(pixels())\n",
    "    dataset1[x].fillWithPixels()\n",
    "    dataset2.append(pixels())\n",
    "    dataset2[x].fillWithPixels()\n",
    "\n",
    "    \n",
    "#prueba de que anda todo bien hasta aqui:\n",
    "\n",
    "dataset1[258][4].getData()"
   ]
  },
  {
   "cell_type": "code",
   "execution_count": 299,
   "metadata": {},
   "outputs": [],
   "source": [
    "#PREPARACION DEL DATASET PARA ENTRENAMIENTO\n",
    "#Aqui voy a preparar el dataset para que sea compatible con la red y pueda ser usado para entrenarla:\n",
    "#Tengo que convertir todo a tensores con la libreria numpy\n",
    "\n",
    "#La idea de este notebook es quedarse solo con los ROJOS:\n",
    "\n",
    "dataset1_np = np.array(dataset1)\n",
    "dataset2_np = np.array(dataset2)\n",
    "\n",
    "\n",
    "#Estas asignaciones son para decirle a r_train y a r_test EL TAMAÑO QUE DEBEN TENER\n",
    "#Debe haber una forma mas feliz de hacer esto pero no la descubri y si saco estas lineas me tira error\n",
    "#------------------------------------inicio de solucion momentanea------------------------------------------\n",
    "r_train = np.array(dataset1_np)\n",
    "r_test = np.array(dataset1_np)\n",
    "ry_train = np.zeros(10000)\n",
    "ry_test = np.zeros(10000)\n",
    "rx_train = np.zeros((10000,7))\n",
    "rx_test = np.zeros((10000,7))\n",
    "#----------------------------------------fin de solucion momentanea--------------------------------------------\n",
    "\n",
    "k = 0\n",
    "\n",
    "#Con esto lo que hago es hacer que r_train y r_test tengan todos los datos ROJOS. Luego, rx_train y tx_test tienen los \n",
    "#datos de rojos correspondientes a los primeros 7 elementos que son la entrada a la red.\n",
    "#Luego, ry_train y ry_test tienen los 8vos elementos que son la salida de la red\n",
    "\n",
    "for i in range(10000):\n",
    "    for j in range (8):\n",
    "        r_train[i][j] = dataset1_np[i][j].R\n",
    "        r_test[i][j] = dataset2_np[i][j].R\n",
    "        if j == 7:\n",
    "            ry_train[k] = r_train[i][j] #La salida de la red neuronal es el ULTIMO elemento de un pixels (o sea T = 7) Eso es lo que quiero predecir\n",
    "            ry_test[k] = r_test[i][j]\n",
    "            k = k + 1\n",
    "            \n",
    "for i in range(10000):\n",
    "    for j in range (8):\n",
    "        if j != 7:\n",
    "            rx_train[i][j] = r_train[i][j]\n",
    "            rx_test[i][j] = r_test[i][j]\n",
    "\n",
    "            \n",
    "rx_train = rx_train.reshape((10000,7,1)) #estos reshapes son necesarios, aunque a veces me olvido por que\n",
    "rx_test = rx_test.reshape((10000,7,1))\n",
    "\n",
    "#Y listo, con eso vamos a entrenar la red para UN SOLO CANAL. Mas adelante hay que hacerlo andar con los 3 canales.\n",
    "#Para eso va a haber que hacer algo asi: (pero todavia no lo hice andar)\n",
    "\n",
    "\n",
    "#x_train = np.array(dataset1)\n",
    "#y_train = x_train\n",
    "\n",
    "\n",
    "#x_test = np.array(dataset2)\n",
    "#y_test = x_test"
   ]
  },
  {
   "cell_type": "code",
   "execution_count": 94,
   "metadata": {},
   "outputs": [
    {
     "data": {
      "text/plain": [
       "array([[145.],\n",
       "       [114.],\n",
       "       [ 83.],\n",
       "       [ 55.],\n",
       "       [ 31.],\n",
       "       [ 14.],\n",
       "       [  3.]])"
      ]
     },
     "execution_count": 94,
     "metadata": {},
     "output_type": "execute_result"
    }
   ],
   "source": [
    "rx_train[4]"
   ]
  },
  {
   "cell_type": "code",
   "execution_count": 88,
   "metadata": {},
   "outputs": [],
   "source": [
    "#DEFINICION DE ARQUITECTURA DE RED NEURONAL - SEGUNDO INTENTO (el primer intento fue deleteado)\n",
    "\n",
    "#input_dim = 256 #es el numero de entrada posible mas grande + 1, segun documentacion de keras\n",
    "#model = Sequential() #Creo la red neuronal\n",
    "#model.add(Embedding(input_dim, output_dim=64, input_length=7)) #Agrego la capa embedding. Suele ser la primer capa de un red en keras, siempre.\n",
    "\n",
    "#model.add(LSTM(128))\n",
    "# el argumento return_sequences=True en la capa LSTM, devuelve una secuencia completa\n",
    "# si no lo pones, te liberas de la variable temporal. Cuando hay varias capas LSTM, en general la ultima lo tiene como false\n",
    "\n",
    "#model.add(Dropout(0.5)) #Agrego capa de Dropout\n",
    "#model.add(Dense(64, activation='relu'))\n",
    "#model.add(Dense(1, activation='relu'))"
   ]
  },
  {
   "cell_type": "code",
   "execution_count": 301,
   "metadata": {},
   "outputs": [
    {
     "name": "stdout",
     "output_type": "stream",
     "text": [
      "WARNING:tensorflow:From D:\\Programas\\AnacondaFinal\\lib\\site-packages\\keras\\backend\\tensorflow_backend.py:3445: calling dropout (from tensorflow.python.ops.nn_ops) with keep_prob is deprecated and will be removed in a future version.\n",
      "Instructions for updating:\n",
      "Please use `rate` instead of `keep_prob`. Rate should be set to `rate = 1 - keep_prob`.\n"
     ]
    }
   ],
   "source": [
    "#DEFINICION DE ARQUITECTURA DE RED NEURONAL - TERCER INTENTO\n",
    "\n",
    "model = Sequential() #Creo la red neuronal\n",
    "#input_dim = 256 #es el numero de entrada posible mas grande + 1, segun documentacion de keras\n",
    "#model.add(Embedding(input_dim, output_dim=256, input_length=7)) #Agrego la capa embedding. Suele ser la primer capa de un red en keras, siempre.\n",
    "model.add(LSTM(200, activation='relu', input_shape=(7,1))) #7 entradas de 1 caracteristica cada una. Cuando agregue los azules\n",
    "#y rojos, en vez de 1 va a ser 3\n",
    "\n",
    "\n",
    "model.add(Dense(100, activation='relu'))\n",
    "model.add(Dropout(0.5)) #Agrego capa de Dropout\n",
    "model.add(Dense(1, activation='relu'))"
   ]
  },
  {
   "cell_type": "code",
   "execution_count": 302,
   "metadata": {
    "scrolled": true
   },
   "outputs": [
    {
     "name": "stdout",
     "output_type": "stream",
     "text": [
      "_________________________________________________________________\n",
      "Layer (type)                 Output Shape              Param #   \n",
      "=================================================================\n",
      "lstm_8 (LSTM)                (None, 200)               161600    \n",
      "_________________________________________________________________\n",
      "dense_15 (Dense)             (None, 100)               20100     \n",
      "_________________________________________________________________\n",
      "dropout_1 (Dropout)          (None, 100)               0         \n",
      "_________________________________________________________________\n",
      "dense_16 (Dense)             (None, 1)                 101       \n",
      "=================================================================\n",
      "Total params: 181,801\n",
      "Trainable params: 181,801\n",
      "Non-trainable params: 0\n",
      "_________________________________________________________________\n"
     ]
    }
   ],
   "source": [
    "#COMPILACION DE LA RED\n",
    "\n",
    "\n",
    "optimizador = RMSprop(lr=0.001, rho=0.9, epsilon=None, decay=0.0)\n",
    "#optimizador = keras.optimizers.Adadelta(lr=1.0, rho=0.95, epsilon=None, decay=0.0)\n",
    "model.compile(loss='mean_squared_error',\n",
    "              optimizer=optimizador,\n",
    "              metrics=['accuracy'])\n",
    "model.summary()"
   ]
  },
  {
   "cell_type": "code",
   "execution_count": null,
   "metadata": {
    "scrolled": false
   },
   "outputs": [
    {
     "name": "stdout",
     "output_type": "stream",
     "text": [
      "Train on 10000 samples, validate on 10000 samples\n",
      "Epoch 1/20\n",
      "10000/10000 [==============================] - 7s 693us/step - loss: 494.5450 - acc: 0.1578 - val_loss: 146.3532 - val_acc: 0.2029\n",
      "Epoch 2/20\n",
      "10000/10000 [==============================] - 7s 719us/step - loss: 486.1539 - acc: 0.1603 - val_loss: 13.0191 - val_acc: 0.3987\n",
      "Epoch 3/20\n",
      "10000/10000 [==============================] - 7s 725us/step - loss: 490.6040 - acc: 0.1533 - val_loss: 66.6415 - val_acc: 0.2029\n",
      "Epoch 4/20\n",
      "10000/10000 [==============================] - 7s 716us/step - loss: 490.9005 - acc: 0.1645 - val_loss: 2.4524 - val_acc: 0.2029\n",
      "Epoch 5/20\n",
      "10000/10000 [==============================] - 7s 697us/step - loss: 495.4485 - acc: 0.1634 - val_loss: 14.2516 - val_acc: 0.2017\n",
      "Epoch 6/20\n",
      "10000/10000 [==============================] - 8s 758us/step - loss: 474.9265 - acc: 0.1692 - val_loss: 20.7459 - val_acc: 0.2994\n",
      "Epoch 7/20\n",
      "10000/10000 [==============================] - 7s 714us/step - loss: 469.2609 - acc: 0.1725 - val_loss: 9.7776 - val_acc: 0.3031\n",
      "Epoch 8/20\n",
      "10000/10000 [==============================] - 7s 706us/step - loss: 486.9423 - acc: 0.1725 - val_loss: 0.5485 - val_acc: 0.5050\n",
      "Epoch 9/20\n",
      "10000/10000 [==============================] - 7s 712us/step - loss: 487.2172 - acc: 0.1719 - val_loss: 38.5214 - val_acc: 0.2994\n",
      "Epoch 10/20\n",
      "10000/10000 [==============================] - 8s 808us/step - loss: 477.8091 - acc: 0.1692 - val_loss: 7.7622 - val_acc: 0.3024\n",
      "Epoch 11/20\n",
      "10000/10000 [==============================] - 7s 706us/step - loss: 470.8028 - acc: 0.1751 - val_loss: 9.2029 - val_acc: 0.2029\n",
      "Epoch 12/20\n",
      "10000/10000 [==============================] - 8s 815us/step - loss: 469.3077 - acc: 0.1714 - val_loss: 259.2564 - val_acc: 0.2029\n",
      "Epoch 13/20\n",
      "10000/10000 [==============================] - 7s 701us/step - loss: 470.2939 - acc: 0.1702 - val_loss: 14.0173 - val_acc: 0.2029\n",
      "Epoch 14/20\n",
      "10000/10000 [==============================] - 7s 695us/step - loss: 468.1823 - acc: 0.1686 - val_loss: 25.0928 - val_acc: 0.2994\n",
      "Epoch 15/20\n",
      "10000/10000 [==============================] - 7s 697us/step - loss: 471.0558 - acc: 0.1701 - val_loss: 91.6977 - val_acc: 0.2029\n",
      "Epoch 16/20\n",
      "10000/10000 [==============================] - 7s 715us/step - loss: 470.3856 - acc: 0.1645 - val_loss: 5.9600 - val_acc: 0.2029\n",
      "Epoch 17/20\n",
      "10000/10000 [==============================] - 7s 746us/step - loss: 486.3398 - acc: 0.1608 - val_loss: 198.1747 - val_acc: 0.0993\n",
      "Epoch 18/20\n",
      "10000/10000 [==============================] - 7s 704us/step - loss: 461.4626 - acc: 0.1592 - val_loss: 98.1986 - val_acc: 0.2029\n",
      "Epoch 19/20\n",
      "10000/10000 [==============================] - 7s 678us/step - loss: 446.8812 - acc: 0.1585 - val_loss: 15.0940 - val_acc: 0.2029\n",
      "Epoch 20/20\n",
      "  992/10000 [=>............................] - ETA: 5s - loss: 439.1873 - acc: 0.1855"
     ]
    }
   ],
   "source": [
    "#ENTRENAMIENTO DE LA RED\n",
    "#model.fit(r_train, r_train, batch_size=1000, epochs=100)\n",
    "history = model.fit(rx_train, ry_train, validation_data=(rx_test, ry_test) ,epochs=20)\n",
    "# model.save_weights('first_try.h5') # 26% de accuracy pero mal implementada la red\n",
    "# model.save_weights('second_try.h5') # 4.74% de accuracy, mejor implementada\n",
    "#model.save_weights('third_try.h5') #\n",
    "#model.save('tercer_intento') #84 % de accuracy en el train y 30% en el test. Tremendo Overfitting\n",
    "#model.save_weights('fourth_try.h5') #50% en el train y 40% en el test. Parece poco pero en realidad es muy buen accuracy\n",
    "#model.save('cuarto_intento')\n",
    "model.save_weights('fifth_try.h5') #el modelo es igual al cuarto intento pero activando la capa de DropOut\n",
    "model.save('quinto_intento')\n",
    "score = model.evaluate(rx_test, ry_test)\n",
    "score"
   ]
  },
  {
   "cell_type": "code",
   "execution_count": 304,
   "metadata": {},
   "outputs": [
    {
     "name": "stdout",
     "output_type": "stream",
     "text": [
      "dict_keys(['val_loss', 'val_acc', 'loss', 'acc'])\n"
     ]
    },
    {
     "data": {
      "image/png": "[encoded data removed]",
      "text/plain": [
       "<Figure size 432x288 with 1 Axes>"
      ]
     },
     "metadata": {
      "needs_background": "light"
     },
     "output_type": "display_data"
    },
    {
     "data": {
      "image/png": "[encoded data removed]",
      "text/plain": [
       "<Figure size 432x288 with 1 Axes>"
      ]
     },
     "metadata": {
      "needs_background": "light"
     },
     "output_type": "display_data"
    }
   ],
   "source": [
    "# list all data in history\n",
    "print(history.history.keys())\n",
    "# summarize history for accuracy\n",
    "plt.plot(history.history['acc'])\n",
    "plt.plot(history.history['val_acc'])\n",
    "plt.title('model accuracy')\n",
    "plt.ylabel('accuracy')\n",
    "plt.xlabel('epoch')\n",
    "plt.legend(['train', 'test'], loc='upper left')\n",
    "plt.show()\n",
    "# summarize history for loss\n",
    "plt.plot(history.history['loss'])\n",
    "plt.plot(history.history['val_loss'])\n",
    "plt.title('model loss')\n",
    "plt.ylabel('loss')\n",
    "plt.xlabel('epoch')\n",
    "plt.legend(['train', 'test'], loc='upper left')\n",
    "plt.show()"
   ]
  },
  {
   "cell_type": "code",
   "execution_count": 201,
   "metadata": {},
   "outputs": [
    {
     "name": "stdout",
     "output_type": "stream",
     "text": [
      "prediccion:  [[4.]]\n",
      "valor posta:  4\n"
     ]
    }
   ],
   "source": [
    "#AHORA PRUEBO CON VALORES FUERA DEL DATASET DE TRAINING\n",
    "#(correr este bloque repetidas veces y verificar que la prediccion y el valor verdadero se parecen)\n",
    "\n",
    "X = pixels()\n",
    "X.fillWithPixels()\n",
    "Z = [0,0,0,0,0,0,0,0]\n",
    "Z[0] = X[0].R\n",
    "Z[1] = X[1].R\n",
    "Z[2] = X[2].R\n",
    "Z[3] = X[3].R\n",
    "Z[4] = X[4].R\n",
    "Z[5] = X[5].R\n",
    "Z[6] = X[6].R\n",
    "Z[7] = X[7].R\n",
    "entrada = np.array([Z[0],Z[1],Z[2],Z[3],Z[4],Z[5],Z[6]])\n",
    "entrada = entrada.reshape(1,7,1)\n",
    "Y = np.round(model.predict(entrada))\n",
    "print(\"prediccion: \",Y)\n",
    "print(\"valor posta: \",Z[7])"
   ]
  },
  {
   "cell_type": "code",
   "execution_count": 293,
   "metadata": {},
   "outputs": [
    {
     "name": "stdout",
     "output_type": "stream",
     "text": [
      "prediccion:  [[91.]]\n",
      "valor posta:  95\n"
     ]
    }
   ],
   "source": [
    "#AHORA PRUEBO CON UNA SENOIDAL QUE TENGA UNA ALTURA DIFERENTE A 0 (o sea que sature)\n",
    "#(sigue teniendo una accuracy bastante aceptable)\n",
    "#(y eso que en el dataset b era 0 siempre)\n",
    "\n",
    "X = pixels()\n",
    "X.fillWithPixels(0.05,40)\n",
    "Z = [0,0,0,0,0,0,0,0]\n",
    "Z[0] = X[0].R\n",
    "Z[1] = X[1].R\n",
    "Z[2] = X[2].R\n",
    "Z[3] = X[3].R\n",
    "Z[4] = X[4].R\n",
    "Z[5] = X[5].R\n",
    "Z[6] = X[6].R\n",
    "Z[7] = X[7].R\n",
    "entrada = np.array([Z[0],Z[1],Z[2],Z[3],Z[4],Z[5],Z[6]])\n",
    "entrada = entrada.reshape(1,7,1)\n",
    "Y = np.round(model.predict(entrada))\n",
    "print(\"prediccion: \",Y)\n",
    "print(\"valor posta: \",Z[7])"
   ]
  },
  {
   "cell_type": "code",
   "execution_count": 225,
   "metadata": {},
   "outputs": [
    {
     "name": "stdout",
     "output_type": "stream",
     "text": [
      "prediccion:  [[124.]]\n",
      "valor posta:  253\n"
     ]
    }
   ],
   "source": [
    "#AHORA PRUEBO CON UNA SENOIDAL QUE TENGA UNA FRECUENCIA DIFERENTE\n",
    "#(el desempeño es espantosamente malo)\n",
    "#(lo cual es logico, la frecuencia era siempre 0.05 en el dataset)\n",
    "#(pienso que podría agrandar el dataset, poniendo varias frecuencias y/o cambiar la topología de la red)\n",
    "#(pero eso lo voy a hacer en la red ubicada en la carpeta \"Second\")\n",
    "\n",
    "X = pixels()\n",
    "X.fillWithPixels(0.2)\n",
    "Z = [0,0,0,0,0,0,0,0]\n",
    "Z[0] = X[0].R\n",
    "Z[1] = X[1].R\n",
    "Z[2] = X[2].R\n",
    "Z[3] = X[3].R\n",
    "Z[4] = X[4].R\n",
    "Z[5] = X[5].R\n",
    "Z[6] = X[6].R\n",
    "Z[7] = X[7].R\n",
    "entrada = np.array([Z[0],Z[1],Z[2],Z[3],Z[4],Z[5],Z[6]])\n",
    "entrada = entrada.reshape(1,7,1)\n",
    "Y = np.round(model.predict(entrada))\n",
    "print(\"prediccion: \",Y)\n",
    "print(\"valor posta: \",Z[7])"
   ]
  }
 ],
 "metadata": {
  "kernelspec": {
   "display_name": "Python 3",
   "language": "python",
   "name": "python3"
  },
  "language_info": {
   "codemirror_mode": {
    "name": "ipython",
    "version": 3
   },
   "file_extension": ".py",
   "mimetype": "text/x-python",
   "name": "python",
   "nbconvert_exporter": "python",
   "pygments_lexer": "ipython3",
   "version": "3.7.3"
  }
 },
 "nbformat": 4,
 "nbformat_minor": 2
}
