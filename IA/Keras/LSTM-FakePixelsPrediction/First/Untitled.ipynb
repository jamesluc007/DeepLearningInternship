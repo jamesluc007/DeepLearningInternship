{
 "cells": [
  {
   "cell_type": "code",
   "execution_count": 1,
   "metadata": {},
   "outputs": [
    {
     "name": "stderr",
     "output_type": "stream",
     "text": [
      "Using TensorFlow backend.\n"
     ]
    }
   ],
   "source": [
    "import tensorflow as tf\n",
    "import tensorflow.keras as kr\n",
    "\n",
    "import numpy as np\n",
    "import scipy as sc\n",
    "import matplotlib.pyplot as plt\n",
    "import math as mth\n",
    "import random as random\n",
    "\n",
    "from keras.models import Sequential\n",
    "from keras.layers import Dense, Dropout\n",
    "from keras.layers import Embedding\n",
    "from keras.layers import LSTM"
   ]
  },
  {
   "cell_type": "code",
   "execution_count": 2,
   "metadata": {},
   "outputs": [],
   "source": [
    "#DECLARACION DE CLASES\n",
    "#Los vectores de 8 elementos se llaman X (x mayuscula)\n",
    "#Voy a generar un vector Y que es un vector de 1000 elemenos X. Con Y vamos a entrenar la red.\n",
    "\n",
    "class pixel:\n",
    "    #esta es la clase pixel, contiene tres canales de entre 0 y 255 cada uno\n",
    "    #por una cuestion de entendimiento los canales se van a llamar R,G y B pero no tiene nada que ver con los colores en si,\n",
    "    #son solo numeros\n",
    "    def __init__(self,tiempo,frecR = 1,frecG = 2, frecB = 5):\n",
    "        a = mth.floor(random.uniform(0,10)) #Aqui esta la aleatoriedad necesaria para entrenar bien\n",
    "        b = mth.floor(random.uniform(0,10))\n",
    "        self.R = mth.floor((127 * mth.sin(frecR*tiempo + a)) + 128 + b) #Aqui genero los tres canales del pixel\n",
    "        self.G = mth.floor((127 * mth.sin(frecG*tiempo + a)) + 128 + b)\n",
    "        self.B = mth.floor((127 * mth.sin(frecB*tiempo + a)) + 128 + b)\n",
    "        #Esto se hace para que los valores sigan dentro del rango 0-255 :\n",
    "        if self.R > 255: \n",
    "            self.R = 255\n",
    "        if self.G > 255: \n",
    "            self.G = 255\n",
    "        if self.B > 255: \n",
    "            self.B = 255\n",
    "        if self.R < 0: \n",
    "            self.R = 0\n",
    "        if self.G < 0: \n",
    "            self.G = 0\n",
    "        if self.B < 0: \n",
    "            self.B = 0\n",
    "    def getData(self): #Esto es para visualizar rapido en caso de que sea necesario\n",
    "        print(\"R:\",self.R, \"G:\",self.G, \"B:\", self.B)\n",
    "#   def getNumbers(self):\n",
    " #      R = self.R\n",
    "        #G = self.G\n",
    "        #B = self.B\n",
    "        \n",
    "class pixels(list): #Esta es la clase de 8 elementos (cada elemento es un pixel)\n",
    "    def fillWithPixels(self, cantElementos = 8):\n",
    "        for x in range(cantElementos):\n",
    "            #print(\"Iteracion numero \", x)\n",
    "            self.append(pixel(x))"
   ]
  },
  {
   "cell_type": "code",
   "execution_count": 3,
   "metadata": {},
   "outputs": [
    {
     "name": "stdout",
     "output_type": "stream",
     "text": [
      "R: 215 G: 215 B: 215\n",
      "R: 243 G: 145 B: 92\n",
      "R: 4 G: 184 B: 150\n",
      "R: 6 G: 253 B: 5\n",
      "R: 189 G: 13 B: 51\n",
      "R: 12 G: 64 B: 117\n",
      "R: 92 G: 59 B: 2\n",
      "R: 93 G: 22 B: 132\n"
     ]
    }
   ],
   "source": [
    "#prueba:\n",
    "X = pixels()\n",
    "X.fillWithPixels()\n",
    "X[0].getData()\n",
    "X[1].getData()\n",
    "X[2].getData()\n",
    "X[3].getData()\n",
    "X[4].getData()\n",
    "X[5].getData()\n",
    "X[6].getData()\n",
    "X[7].getData()"
   ]
  },
  {
   "cell_type": "code",
   "execution_count": 4,
   "metadata": {},
   "outputs": [
    {
     "name": "stdout",
     "output_type": "stream",
     "text": [
      "R: 181 G: 5 B: 43\n"
     ]
    }
   ],
   "source": [
    "#GENERACION DEL DATASET DE ENTRENAMIENTO\n",
    "#Quiero una matriz de 1000 filas. Cada fila es un vector de pixels. Es decir dataset1 y dataset2 son listas de 1000 elementos de pixels.\n",
    "#Cada uno de ellos es un conjunto de 8 pixels\n",
    "\n",
    "size = 1000\n",
    "dataset1 = [] #Para entrenamiento\n",
    "dataset2 = [] #Para testeo\n",
    "\n",
    "for x in range(size):\n",
    "    dataset1.append(pixels())\n",
    "    dataset1[x].fillWithPixels()\n",
    "    dataset2.append(pixels())\n",
    "    dataset2[x].fillWithPixels()\n",
    "\n",
    "    \n",
    "#prueba de que anda todo bien hasta aqui:\n",
    "\n",
    "dataset1[258][4].getData()"
   ]
  },
  {
   "cell_type": "code",
   "execution_count": 12,
   "metadata": {},
   "outputs": [],
   "source": [
    "#PREPARACION DEL DATASET PARA ENTRENAMIENTO\n",
    "#Aqui voy a preparar el dataset para que sea compatible con la red y pueda ser usado para entrenarla:\n",
    "#Seguramente tenga que convertir todo a tensores con las librerias scipy y/o numpy\n",
    "\n",
    "#pruebo de hacerlo andar solo con los rojos (canal R):\n",
    "\n",
    "dataset1_np = np.array(dataset1)\n",
    "dataset2_np = np.array(dataset2)\n",
    "\n",
    "\n",
    "#Estas cuatro asignaciones son para decirle a R-train y a r_test EL TAMAÑO QUE DEBEN TENER\n",
    "#Debe haber una forma mas feliz de hacer esto pero no la descubri y si saco estas dos lineas me tira error\n",
    "#------------------------------------inicio de solucion momentanea------------------------------------------\n",
    "rx_train = dataset1_np\n",
    "rx_test = dataset1_np\n",
    "ry_train = np.zeros(1000)\n",
    "ry_test = np.zeros(1000)\n",
    "#----------------------------------------fin de solucion momentanea--------------------------------------------\n",
    "\n",
    "k = 0\n",
    "\n",
    "for i in range(1000):\n",
    "    for j in range (8):\n",
    "        rx_train[i][j] = dataset1_np[i][j].R\n",
    "        rx_test[i][j] = dataset2_np[i][j].R\n",
    "        if j == 7:\n",
    "            ry_train[k] = rx_train[i][j] #La salida de la red neuronal es el ULTIMO elemento de un pixels (o sea T = 7) Eso es lo que quiero predecir\n",
    "            ry_test[k] = rx_test[i][j]\n",
    "            k = k + 1\n",
    "            \n",
    "\n",
    "#Y listo, con eso vamos a entrenar la red para UN SOLO CANAL. Mas adelante hay que hacerlo andar con los 3 canales.\n",
    "#Para eso va a haber que hacer algo asi: (pero todavia no lo pude hacer andar)\n",
    "\n",
    "\n",
    "#x_train = np.array(dataset1)\n",
    "#y_train = x_train\n",
    "\n",
    "\n",
    "#x_test = np.array(dataset2)\n",
    "#y_test = x_test"
   ]
  },
  {
   "cell_type": "code",
   "execution_count": 21,
   "metadata": {},
   "outputs": [],
   "source": [
    "#DEFINICION DE ARQUITECTURA DE RED NEURONAL\n",
    "\n",
    "input_dim = 256 #segun documentacion de keras, debe ser el indice de entrada mas grande + 1\n",
    "model = Sequential() #Creo la red neuronal\n",
    "model.add(Embedding(input_dim, output_dim=256)) #Agrego la capa embedding. Suele ser la primer capa de un red en keras, siempre.\n",
    "model.add(LSTM(128)) #Agrego una capa LSTM\n",
    "model.add(Dropout(0.5)) #Agrego capa de Dropout\n",
    "model.add(Dense(64, activation='relu'))\n",
    "model.add(Dense(1, activation='relu'))"
   ]
  },
  {
   "cell_type": "code",
   "execution_count": 22,
   "metadata": {
    "scrolled": true
   },
   "outputs": [
    {
     "name": "stdout",
     "output_type": "stream",
     "text": [
      "_________________________________________________________________\n",
      "Layer (type)                 Output Shape              Param #   \n",
      "=================================================================\n",
      "embedding_3 (Embedding)      (None, None, 256)         65536     \n",
      "_________________________________________________________________\n",
      "lstm_3 (LSTM)                (None, 128)               197120    \n",
      "_________________________________________________________________\n",
      "dropout_3 (Dropout)          (None, 128)               0         \n",
      "_________________________________________________________________\n",
      "dense_3 (Dense)              (None, 64)                8256      \n",
      "_________________________________________________________________\n",
      "dense_4 (Dense)              (None, 1)                 65        \n",
      "=================================================================\n",
      "Total params: 270,977\n",
      "Trainable params: 270,977\n",
      "Non-trainable params: 0\n",
      "_________________________________________________________________\n"
     ]
    }
   ],
   "source": [
    "#COMPILACION DE LA RED\n",
    "model.compile(loss='binary_crossentropy',\n",
    "              optimizer='rmsprop',\n",
    "              metrics=['accuracy'])\n",
    "model.summary()"
   ]
  },
  {
   "cell_type": "code",
   "execution_count": 23,
   "metadata": {
    "scrolled": true
   },
   "outputs": [
    {
     "name": "stdout",
     "output_type": "stream",
     "text": [
      "Epoch 1/100\n",
      "1000/1000 [==============================] - 3s 3ms/step - loss: -1100.6299 - acc: 0.0070\n",
      "Epoch 2/100\n",
      "1000/1000 [==============================] - 1s 701us/step - loss: -2440.6670 - acc: 0.0090\n",
      "Epoch 3/100\n",
      "1000/1000 [==============================] - 1s 709us/step - loss: -2447.9591 - acc: 0.0080\n",
      "Epoch 4/100\n",
      "1000/1000 [==============================] - 1s 712us/step - loss: -2450.6155 - acc: 0.0050\n",
      "Epoch 5/100\n",
      "1000/1000 [==============================] - 1s 705us/step - loss: -2450.6156 - acc: 0.0040\n",
      "Epoch 6/100\n",
      "1000/1000 [==============================] - 1s 715us/step - loss: -2450.6156 - acc: 0.0060\n",
      "Epoch 7/100\n",
      "1000/1000 [==============================] - 1s 715us/step - loss: -2448.2718 - acc: 0.0040\n",
      "Epoch 8/100\n",
      "1000/1000 [==============================] - 1s 712us/step - loss: -2450.6155 - acc: 0.0040\n",
      "Epoch 9/100\n",
      "1000/1000 [==============================] - 1s 701us/step - loss: -2450.6155 - acc: 0.0070\n",
      "Epoch 10/100\n",
      "1000/1000 [==============================] - 1s 730us/step - loss: -2450.6155 - acc: 0.0080\n",
      "Epoch 11/100\n",
      "1000/1000 [==============================] - 1s 710us/step - loss: -2450.6156 - acc: 0.0070\n",
      "Epoch 12/100\n",
      "1000/1000 [==============================] - 1s 715us/step - loss: -2450.6155 - acc: 0.0100 0s - loss: -2462.3511 - acc: 0.010\n",
      "Epoch 13/100\n",
      "1000/1000 [==============================] - 1s 752us/step - loss: -2450.6155 - acc: 0.0090\n",
      "Epoch 14/100\n",
      "1000/1000 [==============================] - 1s 744us/step - loss: -2450.6156 - acc: 0.0090\n",
      "Epoch 15/100\n",
      "1000/1000 [==============================] - 1s 704us/step - loss: -2450.6155 - acc: 0.0070\n",
      "Epoch 16/100\n",
      "1000/1000 [==============================] - 1s 732us/step - loss: -2450.6155 - acc: 0.0050\n",
      "Epoch 17/100\n",
      "1000/1000 [==============================] - 1s 798us/step - loss: -2450.6155 - acc: 0.0060\n",
      "Epoch 18/100\n",
      "1000/1000 [==============================] - 1s 737us/step - loss: -2450.6156 - acc: 0.0060\n",
      "Epoch 19/100\n",
      "1000/1000 [==============================] - 1s 809us/step - loss: -2450.6155 - acc: 0.0050\n",
      "Epoch 20/100\n",
      "1000/1000 [==============================] - 1s 788us/step - loss: -2450.6156 - acc: 0.0060\n",
      "Epoch 21/100\n",
      "1000/1000 [==============================] - 1s 833us/step - loss: -2450.6156 - acc: 0.0100\n",
      "Epoch 22/100\n",
      "1000/1000 [==============================] - 1s 794us/step - loss: -2450.6156 - acc: 0.0050\n",
      "Epoch 23/100\n",
      "1000/1000 [==============================] - 1s 812us/step - loss: -2450.6156 - acc: 0.0080\n",
      "Epoch 24/100\n",
      "1000/1000 [==============================] - 1s 832us/step - loss: -2450.6155 - acc: 0.0060\n",
      "Epoch 25/100\n",
      "1000/1000 [==============================] - 1s 1ms/step - loss: -2450.6155 - acc: 0.0100\n",
      "Epoch 26/100\n",
      "1000/1000 [==============================] - 1s 931us/step - loss: -2450.6156 - acc: 0.0070\n",
      "Epoch 27/100\n",
      "1000/1000 [==============================] - 1s 826us/step - loss: -2450.6155 - acc: 0.0100\n",
      "Epoch 28/100\n",
      "1000/1000 [==============================] - 1s 819us/step - loss: -2450.6155 - acc: 0.0070\n",
      "Epoch 29/100\n",
      "1000/1000 [==============================] - 1s 822us/step - loss: -2450.6155 - acc: 0.0070\n",
      "Epoch 30/100\n",
      "1000/1000 [==============================] - 1s 907us/step - loss: -2450.6156 - acc: 0.0040\n",
      "Epoch 31/100\n",
      "1000/1000 [==============================] - 1s 827us/step - loss: -2450.6155 - acc: 0.0080\n",
      "Epoch 32/100\n",
      "1000/1000 [==============================] - 1s 772us/step - loss: -2450.6156 - acc: 0.0060\n",
      "Epoch 33/100\n",
      "1000/1000 [==============================] - 1s 854us/step - loss: -2450.6155 - acc: 0.0050\n",
      "Epoch 34/100\n",
      "1000/1000 [==============================] - 1s 845us/step - loss: -2450.6156 - acc: 0.0050\n",
      "Epoch 35/100\n",
      "1000/1000 [==============================] - 1s 844us/step - loss: -2450.6156 - acc: 0.0060\n",
      "Epoch 36/100\n",
      "1000/1000 [==============================] - 1s 816us/step - loss: -2450.6155 - acc: 0.0030\n",
      "Epoch 37/100\n",
      "1000/1000 [==============================] - 1s 835us/step - loss: -2450.6155 - acc: 0.0050\n",
      "Epoch 38/100\n",
      "1000/1000 [==============================] - 1s 777us/step - loss: -2450.6155 - acc: 0.0070\n",
      "Epoch 39/100\n",
      "1000/1000 [==============================] - 1s 803us/step - loss: -2450.6155 - acc: 0.0060\n",
      "Epoch 40/100\n",
      "1000/1000 [==============================] - 1s 781us/step - loss: -2450.6156 - acc: 0.0080\n",
      "Epoch 41/100\n",
      "1000/1000 [==============================] - 1s 741us/step - loss: -2450.6155 - acc: 0.0090\n",
      "Epoch 42/100\n",
      "1000/1000 [==============================] - 1s 717us/step - loss: -2450.6155 - acc: 0.0090\n",
      "Epoch 43/100\n",
      "1000/1000 [==============================] - 1s 720us/step - loss: -2450.6155 - acc: 0.0090\n",
      "Epoch 44/100\n",
      "1000/1000 [==============================] - 1s 763us/step - loss: -2450.6155 - acc: 0.0070\n",
      "Epoch 45/100\n",
      "1000/1000 [==============================] - 1s 785us/step - loss: -2450.6155 - acc: 0.0100\n",
      "Epoch 46/100\n",
      "1000/1000 [==============================] - 1s 831us/step - loss: -2450.6155 - acc: 0.0070\n",
      "Epoch 47/100\n",
      "1000/1000 [==============================] - 1s 839us/step - loss: -2450.6156 - acc: 0.0080\n",
      "Epoch 48/100\n",
      "1000/1000 [==============================] - 1s 786us/step - loss: -2450.6155 - acc: 0.0080\n",
      "Epoch 49/100\n",
      "1000/1000 [==============================] - 1s 871us/step - loss: -2450.6155 - acc: 0.0050\n",
      "Epoch 50/100\n",
      "1000/1000 [==============================] - 1s 847us/step - loss: -2450.6155 - acc: 0.0100 0s - loss: -2454.3416 - acc: 0.0\n",
      "Epoch 51/100\n",
      "1000/1000 [==============================] - 1s 780us/step - loss: -2450.6155 - acc: 0.0060\n",
      "Epoch 52/100\n",
      "1000/1000 [==============================] - 1s 737us/step - loss: -2450.6156 - acc: 0.0100\n",
      "Epoch 53/100\n",
      "1000/1000 [==============================] - 1s 724us/step - loss: -2450.6155 - acc: 0.0050\n",
      "Epoch 54/100\n",
      "1000/1000 [==============================] - 1s 729us/step - loss: -2450.6155 - acc: 0.0060\n",
      "Epoch 55/100\n",
      "1000/1000 [==============================] - 1s 750us/step - loss: -2450.6155 - acc: 0.0080\n",
      "Epoch 56/100\n",
      "1000/1000 [==============================] - 1s 713us/step - loss: -2450.6155 - acc: 0.0100\n",
      "Epoch 57/100\n",
      "1000/1000 [==============================] - 1s 779us/step - loss: -2450.6155 - acc: 0.0060\n",
      "Epoch 58/100\n",
      "1000/1000 [==============================] - 1s 826us/step - loss: -2450.6155 - acc: 0.0100\n",
      "Epoch 59/100\n",
      "1000/1000 [==============================] - 1s 813us/step - loss: -2450.6156 - acc: 0.0050\n",
      "Epoch 60/100\n",
      "1000/1000 [==============================] - 1s 846us/step - loss: -2450.6155 - acc: 0.0030\n",
      "Epoch 61/100\n",
      "1000/1000 [==============================] - 1s 814us/step - loss: -2450.6155 - acc: 0.0090\n",
      "Epoch 62/100\n",
      "1000/1000 [==============================] - 1s 862us/step - loss: -2450.6155 - acc: 0.0050\n",
      "Epoch 63/100\n",
      "1000/1000 [==============================] - 1s 833us/step - loss: -2450.6156 - acc: 0.0080\n",
      "Epoch 64/100\n",
      "1000/1000 [==============================] - 1s 730us/step - loss: -2450.6156 - acc: 0.0060\n",
      "Epoch 65/100\n",
      "1000/1000 [==============================] - 1s 697us/step - loss: -2450.6155 - acc: 0.0060\n",
      "Epoch 66/100\n",
      "1000/1000 [==============================] - 1s 668us/step - loss: -2450.6155 - acc: 0.0110\n",
      "Epoch 67/100\n",
      "1000/1000 [==============================] - 1s 674us/step - loss: -2450.6155 - acc: 0.0050\n",
      "Epoch 68/100\n",
      "1000/1000 [==============================] - 1s 721us/step - loss: -2450.6156 - acc: 0.0080\n",
      "Epoch 69/100\n",
      "1000/1000 [==============================] - 1s 682us/step - loss: -2450.6155 - acc: 0.0070\n",
      "Epoch 70/100\n",
      "1000/1000 [==============================] - 1s 825us/step - loss: -2450.6155 - acc: 0.0040\n",
      "Epoch 71/100\n",
      "1000/1000 [==============================] - 1s 852us/step - loss: -2450.6156 - acc: 0.0050\n",
      "Epoch 72/100\n",
      "1000/1000 [==============================] - 1s 748us/step - loss: -2450.6156 - acc: 0.0080\n",
      "Epoch 73/100\n",
      "1000/1000 [==============================] - 1s 759us/step - loss: -2450.6156 - acc: 0.0070\n",
      "Epoch 74/100\n",
      "1000/1000 [==============================] - 1s 769us/step - loss: -2450.6155 - acc: 0.0090\n",
      "Epoch 75/100\n",
      "1000/1000 [==============================] - 1s 761us/step - loss: -2450.6155 - acc: 0.0080\n",
      "Epoch 76/100\n",
      "1000/1000 [==============================] - 1s 735us/step - loss: -2450.6155 - acc: 0.0090\n",
      "Epoch 77/100\n",
      "1000/1000 [==============================] - 1s 715us/step - loss: -2450.6155 - acc: 0.0090\n",
      "Epoch 78/100\n"
     ]
    },
    {
     "name": "stdout",
     "output_type": "stream",
     "text": [
      "1000/1000 [==============================] - 1s 710us/step - loss: -2450.6155 - acc: 0.0100\n",
      "Epoch 79/100\n",
      "1000/1000 [==============================] - 1s 719us/step - loss: -2450.6155 - acc: 0.0100\n",
      "Epoch 80/100\n",
      "1000/1000 [==============================] - 1s 727us/step - loss: -2450.6155 - acc: 0.0080\n",
      "Epoch 81/100\n",
      "1000/1000 [==============================] - 1s 696us/step - loss: -2450.6155 - acc: 0.0080\n",
      "Epoch 82/100\n",
      "1000/1000 [==============================] - 1s 782us/step - loss: -2450.6155 - acc: 0.0040\n",
      "Epoch 83/100\n",
      "1000/1000 [==============================] - 1s 778us/step - loss: -2450.6155 - acc: 0.0040\n",
      "Epoch 84/100\n",
      "1000/1000 [==============================] - 1s 741us/step - loss: -2450.6155 - acc: 0.0050\n",
      "Epoch 85/100\n",
      "1000/1000 [==============================] - 1s 785us/step - loss: -2450.6155 - acc: 0.0090\n",
      "Epoch 86/100\n",
      "1000/1000 [==============================] - 1s 789us/step - loss: -2450.6155 - acc: 0.0060\n",
      "Epoch 87/100\n",
      "1000/1000 [==============================] - 1s 935us/step - loss: -2450.6155 - acc: 0.0080\n",
      "Epoch 88/100\n",
      "1000/1000 [==============================] - 1s 829us/step - loss: -2450.6156 - acc: 0.0050\n",
      "Epoch 89/100\n",
      "1000/1000 [==============================] - 1s 710us/step - loss: -2450.6155 - acc: 0.0070\n",
      "Epoch 90/100\n",
      "1000/1000 [==============================] - 1s 679us/step - loss: -2450.6155 - acc: 0.0070\n",
      "Epoch 91/100\n",
      "1000/1000 [==============================] - 1s 694us/step - loss: -2450.6156 - acc: 0.0070\n",
      "Epoch 92/100\n",
      "1000/1000 [==============================] - 1s 677us/step - loss: -2450.6155 - acc: 0.0040ETA: 0s - loss: -2245.1717 - ac\n",
      "Epoch 93/100\n",
      "1000/1000 [==============================] - 1s 694us/step - loss: -2450.6155 - acc: 0.0060\n",
      "Epoch 94/100\n",
      "1000/1000 [==============================] - 1s 702us/step - loss: -2450.6155 - acc: 0.0100\n",
      "Epoch 95/100\n",
      "1000/1000 [==============================] - 1s 745us/step - loss: -2450.6155 - acc: 0.0030\n",
      "Epoch 96/100\n",
      "1000/1000 [==============================] - 1s 757us/step - loss: -2450.6155 - acc: 0.0060\n",
      "Epoch 97/100\n",
      "1000/1000 [==============================] - 1s 741us/step - loss: -2450.6155 - acc: 0.0070\n",
      "Epoch 98/100\n",
      "1000/1000 [==============================] - 1s 763us/step - loss: -2450.6155 - acc: 0.0050\n",
      "Epoch 99/100\n",
      "1000/1000 [==============================] - 1s 754us/step - loss: -2450.6155 - acc: 0.0040\n",
      "Epoch 100/100\n",
      "1000/1000 [==============================] - 1s 726us/step - loss: -2450.6155 - acc: 0.0050\n",
      "1000/1000 [==============================] - 1s 759us/step\n"
     ]
    },
    {
     "data": {
      "text/plain": [
       "[-2450.61553125, 0.007]"
      ]
     },
     "execution_count": 23,
     "metadata": {},
     "output_type": "execute_result"
    }
   ],
   "source": [
    "#ENTRENAMIENTO DE LA RED\n",
    "#model.fit(r_train, r_train, batch_size=1000, epochs=100)\n",
    "model.fit(rx_train, ry_train, epochs=100)\n",
    "#model.save_weights(\"\\first_try.h5\")\n",
    "score = model.evaluate(rx_test, ry_test)\n",
    "score"
   ]
  },
  {
   "cell_type": "code",
   "execution_count": 27,
   "metadata": {},
   "outputs": [
    {
     "data": {
      "text/plain": [
       "8"
      ]
     },
     "execution_count": 27,
     "metadata": {},
     "output_type": "execute_result"
    }
   ],
   "source": [
    "Z = [0,0,0,0,0,0,0,0]\n",
    "Z[0] = X[0].R\n",
    "Z[1] = X[1].R\n",
    "Z[2] = X[2].R\n",
    "Z[3] = X[3].R\n",
    "Z[4] = X[4].R\n",
    "Z[5] = X[5].R\n",
    "Z[6] = X[6].R\n",
    "Z[7] = X[7].R\n",
    "Y = model.predict(Z)\n",
    "Y.size\n",
    "\n",
    "#No veo por que el size es 8. Seguire mañana"
   ]
  },
  {
   "cell_type": "code",
   "execution_count": 30,
   "metadata": {},
   "outputs": [
    {
     "data": {
      "text/plain": [
       "array([[0.19331807],\n",
       "       [0.29150915],\n",
       "       [0.20642994],\n",
       "       [0.33677244],\n",
       "       [0.26719856],\n",
       "       [0.31464154],\n",
       "       [0.289215  ],\n",
       "       [0.28607416]], dtype=float32)"
      ]
     },
     "execution_count": 30,
     "metadata": {},
     "output_type": "execute_result"
    }
   ],
   "source": [
    "Y #Aca veo que claramente las salidas van entre 0 y 1. Y yo quiero que sean valores de entre 0 y 255. Quizas con multiplicar todo ya anda bien, quizas no"
   ]
  },
  {
   "cell_type": "code",
   "execution_count": 31,
   "metadata": {},
   "outputs": [
    {
     "data": {
      "text/plain": [
       "[215, 243, 4, 6, 189, 12, 92, 93]"
      ]
     },
     "execution_count": 31,
     "metadata": {},
     "output_type": "execute_result"
    }
   ],
   "source": [
    "Z"
   ]
  }
 ],
 "metadata": {
  "kernelspec": {
   "display_name": "Python 3",
   "language": "python",
   "name": "python3"
  },
  "language_info": {
   "codemirror_mode": {
    "name": "ipython",
    "version": 3
   },
   "file_extension": ".py",
   "mimetype": "text/x-python",
   "name": "python",
   "nbconvert_exporter": "python",
   "pygments_lexer": "ipython3",
   "version": "3.7.3"
  }
 },
 "nbformat": 4,
 "nbformat_minor": 2
}
