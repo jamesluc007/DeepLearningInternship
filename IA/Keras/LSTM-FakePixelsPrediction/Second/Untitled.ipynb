{
 "cells": [
  {
   "cell_type": "code",
   "execution_count": 1,
   "metadata": {},
   "outputs": [
    {
     "name": "stderr",
     "output_type": "stream",
     "text": [
      "Using TensorFlow backend.\n"
     ]
    }
   ],
   "source": [
    "#LIBRERIAS A UTILIZAR\n",
    "import tensorflow as tf\n",
    "import tensorflow.keras as kr\n",
    "import keras\n",
    "import numpy as np\n",
    "import scipy as sc\n",
    "import matplotlib.pyplot as plt\n",
    "import math as mth\n",
    "import random as random\n",
    "\n",
    "from keras.models import Sequential\n",
    "from keras.layers import Dense, Dropout\n",
    "from keras.layers import Embedding\n",
    "from keras.layers import LSTM\n",
    "\n",
    "from keras.optimizers import RMSprop"
   ]
  },
  {
   "cell_type": "code",
   "execution_count": 240,
   "metadata": {},
   "outputs": [],
   "source": [
    "#DECLARACION DE CLASES\n",
    "#Los vectores de 16 elementos se llaman \"pixels\" porque son un conjunto de elementos \"pixel\"\n",
    "#Voy a generar un vector \"dataset\" que es un vector de 10000 elemenos de tipo \"pixels\"\n",
    "\n",
    "class pixel:\n",
    "    #esta es la clase pixel, contiene seis canales (C1 C2 C3 C4 C5 C6) de enteros de rango 0 a 255 cada uno\n",
    "    #Cada canal varia sinusoidalmente con parametros aleatorios\n",
    "    def __init__(self,tiempo, a=0, b=0,A=127,frec1 = 0.05,frec2 = 2, frec3 = 1, frec4 = 0.3, frec5 = 0.8, frec6 = 0.06):\n",
    "        self.C1 = mth.floor((A * mth.sin(frec1*tiempo + a)) + (A+1) + b) #Aqui genero los seis canales del pixel\n",
    "        self.C2 = mth.floor((A * mth.sin(frec2*tiempo + a)) + (A+1) + b)\n",
    "        self.C3 = mth.floor((A * mth.sin(frec3*tiempo + a)) + (A+1) + b)\n",
    "        self.C4 = mth.floor((A * mth.sin(frec4*tiempo + a)) + (A+1) + b)\n",
    "        self.C5 = mth.floor((A * mth.sin(frec5*tiempo + a)) + (A+1) + b)\n",
    "        self.C6 = mth.floor((A * mth.sin(frec6*tiempo + a)) + (A+1) + b)\n",
    "        #Esto se hace para que los valores sigan dentro del rango 0-255 (si se pasan deben saturar):\n",
    "        if self.C1 > 255: \n",
    "            self.C1 = 255\n",
    "        if self.C2 > 255: \n",
    "            self.C2 = 255\n",
    "        if self.C3 > 255: \n",
    "            self.C3 = 255\n",
    "        if self.C4 > 255: \n",
    "            self.C4 = 255\n",
    "        if self.C5 > 255: \n",
    "            self.C5 = 255\n",
    "        if self.C6 > 255: \n",
    "            self.C6 = 255\n",
    "        if self.C1 < 0: \n",
    "            self.C1 = 0\n",
    "        if self.C2 < 0: \n",
    "            self.C2 = 0\n",
    "        if self.C3 < 0: \n",
    "            self.C3 = 0\n",
    "        if self.C4 < 0: \n",
    "            self.C4 = 0\n",
    "        if self.C5 < 0: \n",
    "            self.C5 = 0\n",
    "        if self.C6 < 0: \n",
    "            self.C6 = 0\n",
    "    def getData(self): #Esto es para visualizar rapido en caso de que sea necesario\n",
    "        print(\"C1:\",self.C1, \"C2:\",self.C2, \"C3:\", self.C3,\"C4:\",self.C4, \"C5:\",self.C5, \"C6:\", self.C6)\n",
    "        \n",
    "        \n",
    "    def setData(self,tiempo, a1=0, a2=0,a3=0, a4=0,a5=0, a6=0,b=0,A1=127,A2=127,A3=127,A4=127,A5=127,A6=127,frec1 = 0.05,frec2 = 2, frec3 = 1, frec4 = 0.3, frec5 = 0.8, frec6 = 0.06):\n",
    "        self.C1 = mth.floor((A1 * mth.sin(frec1*tiempo + a1)) + (A1+1) + b) #Aqui seteo los seis canales del pixel\n",
    "        self.C2 = mth.floor((A2 * mth.sin(frec2*tiempo + a2)) + (A2+1) + b)\n",
    "        self.C3 = mth.floor((A3 * mth.sin(frec3*tiempo + a3)) + (A3+1) + b)\n",
    "        self.C4 = mth.floor((A4 * mth.sin(frec4*tiempo + a4)) + (A4+1) + b)\n",
    "        self.C5 = mth.floor((A5 * mth.sin(frec5*tiempo + a5)) + (A5+1) + b)\n",
    "        self.C6 = mth.floor((A6 * mth.sin(frec6*tiempo + a6)) + (A6+1) + b)\n",
    "        \n",
    "class pixels(list): #Esta es la clase de 16 elementos (cada elemento es un pixel)\n",
    "    def fillWithPixels(self, cantElementos = 16):\n",
    "        a1 = mth.floor(random.uniform(0,10)) #Aqui esta la aleatoriedad necesaria para entrenar bien\n",
    "        a2 = mth.floor(random.uniform(0,10))\n",
    "        a3 = mth.floor(random.uniform(0,10))\n",
    "        a4 = mth.floor(random.uniform(0,10))\n",
    "        a5 = mth.floor(random.uniform(0,10))\n",
    "        a6= mth.floor(random.uniform(0,10))\n",
    "        A1 = mth.floor(random.uniform(5,127))\n",
    "        A2 = mth.floor(random.uniform(5,127))\n",
    "        A3 = mth.floor(random.uniform(5,127))\n",
    "        A4 = mth.floor(random.uniform(5,127))\n",
    "        A5 = mth.floor(random.uniform(5,127))\n",
    "        A6 = mth.floor(random.uniform(5,127))\n",
    "        frec1=random.uniform(0.02,2)\n",
    "        frec2=random.uniform(0.02,2)\n",
    "        frec3=random.uniform(0.02,2)\n",
    "        frec4=random.uniform(0.02,2)\n",
    "        frec5=random.uniform(0.02,2)\n",
    "        frec6=random.uniform(0.02,2)\n",
    "        b=random.uniform(0,5)\n",
    "        \n",
    "        #print(\"a1: \", a1, \"A1: \", A1, \"frec1: \", frec1, \"b\", b)\n",
    "        k = 0\n",
    "        for x in range(cantElementos*10):\n",
    "            #print(\"Iteracion numero \", x)\n",
    "            if(x % 10 == 0):\n",
    "                self.append(pixel(x))\n",
    "                self[k].setData(x,a1,a2,a3,a4,a5,a6,A1,A2,A3,A4,A5,A6,frec1,frec2,frec3,frec4,frec5,frec6)\n",
    "                k = k + 1\n",
    "                #print(\"x: \",x)"
   ]
  },
  {
   "cell_type": "code",
   "execution_count": 241,
   "metadata": {},
   "outputs": [
    {
     "name": "stdout",
     "output_type": "stream",
     "text": [
      "C1: 194 C2: 86 C3: 202 C4: 163 C5: 76 C6: 74\n",
      "C1: 264 C2: 123 C3: 171 C4: 202 C5: 162 C6: 75\n",
      "C1: 83 C2: 161 C3: 202 C4: 234 C5: 159 C6: 76\n",
      "C1: 189 C2: 175 C3: 171 C4: 250 C5: 77 C6: 76\n",
      "C1: 268 C2: 157 C3: 202 C4: 248 C5: 190 C6: 76\n",
      "C1: 85 C2: 118 C3: 172 C4: 228 C5: 120 C6: 75\n",
      "C1: 183 C2: 83 C3: 201 C4: 195 C5: 101 C6: 75\n",
      "C1: 271 C2: 75 C3: 172 C4: 154 C5: 197 C6: 74\n",
      "C1: 88 C2: 98 C3: 201 C4: 116 C5: 88 C6: 74\n",
      "C1: 177 C2: 139 C3: 172 C4: 87 C5: 138 C6: 74\n",
      "C1: 274 C2: 170 C3: 200 C4: 74 C5: 180 C6: 74\n",
      "C1: 91 C2: 172 C3: 173 C4: 79 C5: 74 C6: 75\n",
      "C1: 171 C2: 143 C3: 200 C4: 102 C5: 174 C6: 76\n",
      "C1: 276 C2: 102 C3: 173 C4: 138 C5: 145 C6: 76\n",
      "C1: 95 C2: 76 C3: 200 C4: 179 C5: 83 C6: 76\n",
      "C1: 165 C2: 80 C3: 174 C4: 216 C5: 195 C6: 76\n"
     ]
    }
   ],
   "source": [
    "#prueba:\n",
    "X = pixels()\n",
    "X.fillWithPixels()\n",
    "X[0].getData()\n",
    "X[1].getData()\n",
    "X[2].getData()\n",
    "X[3].getData()\n",
    "X[4].getData()\n",
    "X[5].getData()\n",
    "X[6].getData()\n",
    "X[7].getData()\n",
    "X[8].getData()\n",
    "X[9].getData()\n",
    "X[10].getData()\n",
    "X[11].getData()\n",
    "X[12].getData()\n",
    "X[13].getData()\n",
    "X[14].getData()\n",
    "X[15].getData()"
   ]
  },
  {
   "cell_type": "code",
   "execution_count": 242,
   "metadata": {},
   "outputs": [
    {
     "name": "stdout",
     "output_type": "stream",
     "text": [
      "C1: 117 C2: 172 C3: 285 C4: 177 C5: 179 C6: 109\n"
     ]
    }
   ],
   "source": [
    "#GENERACION DEL DATASET DE ENTRENAMIENTO\n",
    "#Quiero una lista de 10000 elementos. Cada elemento es un vector de pixels. Es decir dataset1 y dataset2 son listas de 10000 elementos de pixels.\n",
    "#Cada uno de ellos es un conjunto de 16 elementos pixel, cada uno con sus 6 canales\n",
    "\n",
    "size = 10000\n",
    "dataset1 = [] #Para entrenamiento\n",
    "dataset2 = [] #Para testeo\n",
    "\n",
    "for x in range(size):\n",
    "    dataset1.append(pixels())\n",
    "    dataset1[x].fillWithPixels()\n",
    "    dataset2.append(pixels())\n",
    "    dataset2[x].fillWithPixels()\n",
    "\n",
    "    \n",
    "#prueba de que anda todo bien hasta aqui:\n",
    "\n",
    "dataset1[258][4].getData()"
   ]
  },
  {
   "cell_type": "code",
   "execution_count": 243,
   "metadata": {},
   "outputs": [],
   "source": [
    "#PREPARACION DEL DATASET PARA ENTRENAMIENTO\n",
    "#Aqui voy a preparar el dataset para que sea compatible con la red y pueda ser usado para entrenarla:\n",
    "#Seguramente tenga que convertir todo a tensores con las librerias scipy y/o numpy\n",
    "\n",
    "dataset1_np = np.array(dataset1) #Para entrenar\n",
    "dataset2_np = np.array(dataset2) #Para testear\n",
    "\n",
    "timesteps = 15 #esta es la cantidad de entradas que le vamos a dar a la red para que luego prediga la ultima\n",
    "\n",
    "\n",
    "\n",
    "#------------------------------------inicio definicion inicial------------------------------------------\n",
    "train = np.zeros(size*16*6)\n",
    "test = np.zeros(size*16*6) \n",
    "y_train = np.zeros(size*1*6) #El 6 es por 6 canales, \n",
    "y_test = np.zeros(size*1*6) \n",
    "x_train = np.zeros((size*timesteps*6))\n",
    "x_test = np.zeros((size*timesteps*6))\n",
    "\n",
    "train = train.reshape(size,16,6)\n",
    "test = train.reshape(size,16,6)\n",
    "y_train = y_train.reshape(size,1,6) #el 1 es porque es solo un tiempo el que hay que predecir (el ultimo)\n",
    "y_test = y_test.reshape(size,1,6)\n",
    "x_train = x_train.reshape(size,timesteps,6)\n",
    "x_test = x_test.reshape(size,timesteps,6)\n",
    "#----------------------------------------fin de definicion inicial--------------------------------------------\n",
    "\n",
    "k = 0\n",
    "\n",
    "\n",
    "for i in range(size):\n",
    "    for j in range (16):\n",
    "        train[i][j][0] = dataset1_np[i][j].C1\n",
    "        train[i][j][1] = dataset1_np[i][j].C2\n",
    "        train[i][j][2] = dataset1_np[i][j].C3\n",
    "        train[i][j][3] = dataset1_np[i][j].C4\n",
    "        train[i][j][4] = dataset1_np[i][j].C5\n",
    "        train[i][j][5] = dataset1_np[i][j].C6\n",
    "        test[i][j][0] = dataset2_np[i][j].C1\n",
    "        test[i][j][1] = dataset2_np[i][j].C2\n",
    "        test[i][j][2] = dataset2_np[i][j].C3\n",
    "        test[i][j][3] = dataset2_np[i][j].C4\n",
    "        test[i][j][4] = dataset2_np[i][j].C5\n",
    "        test[i][j][5] = dataset2_np[i][j].C6\n",
    "        if j == 15:\n",
    "            y_train[k][0][0] = train[i][j][0]\n",
    "            y_train[k][0][1] = train[i][j][1] \n",
    "            y_train[k][0][2] = train[i][j][2] \n",
    "            y_train[k][0][3] = train[i][j][3] \n",
    "            y_train[k][0][4] = train[i][j][4] \n",
    "            y_train[k][0][5] = train[i][j][5] \n",
    "            y_test[k][0][0] = test[i][j][0]\n",
    "            y_test[k][0][1] = test[i][j][1]\n",
    "            y_test[k][0][2] = test[i][j][2]\n",
    "            y_test[k][0][3] = test[i][j][3]\n",
    "            y_test[k][0][4] = test[i][j][4]\n",
    "            y_test[k][0][5] = test[i][j][5]\n",
    "            \n",
    "            k = k + 1\n",
    "            \n",
    "for i in range(size):\n",
    "    for j in range (16):\n",
    "        if j != 15:\n",
    "            x_train[i][j] = train[i][j]\n",
    "            x_test[i][j] = test[i][j]\n",
    "\n",
    "y_train = y_train.reshape(10000,6)\n",
    "y_test = y_test.reshape(10000,6)\n",
    "\n",
    "\n",
    "#LISTO, ahora con x_train y y_train se entrenara la red. Con x_test y y_test se la testeará"
   ]
  },
  {
   "cell_type": "code",
   "execution_count": 261,
   "metadata": {},
   "outputs": [],
   "source": [
    "#DEFINICION DE ARQUITECTURA DE RED NEURONAL\n",
    "\n",
    "model = Sequential() #Creo la red neuronal\n",
    "#input_dim = 256 #es el numero de entrada posible mas grande + 1, segun documentacion de keras\n",
    "#model.add(Embedding(input_dim, output_dim=256, input_length=7)) #Agrego la capa embedding. Suele ser la primer capa de un red en keras, siempre.\n",
    "model.add(LSTM(200, activation='relu', input_shape=(15,6))) #15 entradas de 6 caracteristicas cada una. \n",
    "\n",
    "\n",
    "model.add(Dense(100, activation='relu'))\n",
    "#model.add(Dropout(0.5)) #Agrego capa de Dropout\n",
    "model.add(Dense(6, activation='relu'))"
   ]
  },
  {
   "cell_type": "code",
   "execution_count": 262,
   "metadata": {
    "scrolled": true
   },
   "outputs": [
    {
     "name": "stdout",
     "output_type": "stream",
     "text": [
      "_________________________________________________________________\n",
      "Layer (type)                 Output Shape              Param #   \n",
      "=================================================================\n",
      "lstm_9 (LSTM)                (None, 200)               165600    \n",
      "_________________________________________________________________\n",
      "dense_17 (Dense)             (None, 100)               20100     \n",
      "_________________________________________________________________\n",
      "dense_18 (Dense)             (None, 6)                 606       \n",
      "=================================================================\n",
      "Total params: 186,306\n",
      "Trainable params: 186,306\n",
      "Non-trainable params: 0\n",
      "_________________________________________________________________\n"
     ]
    }
   ],
   "source": [
    "#COMPILACION DE LA RED\n",
    "\n",
    "\n",
    "optimizador = RMSprop(lr=0.001, rho=0.9, epsilon=None, decay=0.0)\n",
    "#optimizador = keras.optimizers.Adadelta(lr=1.0, rho=0.95, epsilon=None, decay=0.0)\n",
    "model.compile(loss='mean_squared_error',\n",
    "              optimizer=optimizador,\n",
    "              metrics=['accuracy'])\n",
    "model.summary()"
   ]
  },
  {
   "cell_type": "code",
   "execution_count": 263,
   "metadata": {
    "scrolled": false
   },
   "outputs": [
    {
     "name": "stdout",
     "output_type": "stream",
     "text": [
      "Train on 10000 samples, validate on 10000 samples\n",
      "Epoch 1/40\n",
      "10000/10000 [==============================] - 15s 2ms/step - loss: 5143.2996 - acc: 0.2705 - val_loss: 3855.0262 - val_acc: 0.2855\n",
      "Epoch 2/40\n",
      "10000/10000 [==============================] - 13s 1ms/step - loss: 3615.7519 - acc: 0.3286 - val_loss: 2986.9416 - val_acc: 0.3546\n",
      "Epoch 3/40\n",
      "10000/10000 [==============================] - 13s 1ms/step - loss: 2864.6005 - acc: 0.3830 - val_loss: 2946.8843 - val_acc: 0.3817\n",
      "Epoch 4/40\n",
      "10000/10000 [==============================] - 12s 1ms/step - loss: 2952.5964 - acc: 0.3834 - val_loss: 3571.1074 - val_acc: 0.3400\n",
      "Epoch 5/40\n",
      "10000/10000 [==============================] - 12s 1ms/step - loss: 3335.2753 - acc: 0.3620 - val_loss: 4112.8424 - val_acc: 0.2873\n",
      "Epoch 6/40\n",
      "10000/10000 [==============================] - 12s 1ms/step - loss: 2905.5871 - acc: 0.3966 - val_loss: 3156.9777 - val_acc: 0.3753\n",
      "Epoch 7/40\n",
      "10000/10000 [==============================] - 13s 1ms/step - loss: 2714.7942 - acc: 0.4022 - val_loss: 2614.9390 - val_acc: 0.4156\n",
      "Epoch 8/40\n",
      "10000/10000 [==============================] - 13s 1ms/step - loss: 2633.2206 - acc: 0.4160 - val_loss: 2534.8784 - val_acc: 0.4215\n",
      "Epoch 9/40\n",
      "10000/10000 [==============================] - 14s 1ms/step - loss: 2583.5199 - acc: 0.4231 - val_loss: 2567.7975 - val_acc: 0.4227\n",
      "Epoch 10/40\n",
      "10000/10000 [==============================] - 14s 1ms/step - loss: 2552.2409 - acc: 0.4260 - val_loss: 2516.6580 - val_acc: 0.4252\n",
      "Epoch 11/40\n",
      "10000/10000 [==============================] - 13s 1ms/step - loss: 2524.6486 - acc: 0.4299 - val_loss: 2571.4780 - val_acc: 0.4196\n",
      "Epoch 12/40\n",
      "10000/10000 [==============================] - 13s 1ms/step - loss: 2492.9766 - acc: 0.4395 - val_loss: 2514.2908 - val_acc: 0.4362\n",
      "Epoch 13/40\n",
      "10000/10000 [==============================] - 13s 1ms/step - loss: 2488.0826 - acc: 0.4334 - val_loss: 2653.8071 - val_acc: 0.4222\n",
      "Epoch 14/40\n",
      "10000/10000 [==============================] - 13s 1ms/step - loss: 2456.5950 - acc: 0.4380 - val_loss: 2501.7719 - val_acc: 0.4298\n",
      "Epoch 15/40\n",
      "10000/10000 [==============================] - 13s 1ms/step - loss: 2413.8906 - acc: 0.4413 - val_loss: 2404.9079 - val_acc: 0.4495\n",
      "Epoch 16/40\n",
      "10000/10000 [==============================] - 13s 1ms/step - loss: 2356.4213 - acc: 0.4596 - val_loss: 2332.2327 - val_acc: 0.4597\n",
      "Epoch 17/40\n",
      "10000/10000 [==============================] - 12s 1ms/step - loss: 2250.5253 - acc: 0.4802 - val_loss: 2209.3446 - val_acc: 0.4933\n",
      "Epoch 18/40\n",
      "10000/10000 [==============================] - 13s 1ms/step - loss: 2136.0291 - acc: 0.5006 - val_loss: 2142.7059 - val_acc: 0.5015\n",
      "Epoch 19/40\n",
      "10000/10000 [==============================] - 13s 1ms/step - loss: 2025.3916 - acc: 0.5222 - val_loss: 1924.5950 - val_acc: 0.5258\n",
      "Epoch 20/40\n",
      "10000/10000 [==============================] - 13s 1ms/step - loss: 1884.3724 - acc: 0.5487 - val_loss: 1861.9369 - val_acc: 0.5490\n",
      "Epoch 21/40\n",
      "10000/10000 [==============================] - 13s 1ms/step - loss: 1744.4236 - acc: 0.5698 - val_loss: 1690.5602 - val_acc: 0.5705\n",
      "Epoch 22/40\n",
      "10000/10000 [==============================] - 12s 1ms/step - loss: 1631.6257 - acc: 0.5798 - val_loss: 1695.8189 - val_acc: 0.5808\n",
      "Epoch 23/40\n",
      "10000/10000 [==============================] - 13s 1ms/step - loss: 1539.9295 - acc: 0.6067 - val_loss: 1792.0336 - val_acc: 0.5927\n",
      "Epoch 24/40\n",
      "10000/10000 [==============================] - 13s 1ms/step - loss: 1448.7469 - acc: 0.6207 - val_loss: 1407.4308 - val_acc: 0.6218\n",
      "Epoch 25/40\n",
      "10000/10000 [==============================] - 13s 1ms/step - loss: 1383.5198 - acc: 0.6311 - val_loss: 1373.0613 - val_acc: 0.6260\n",
      "Epoch 26/40\n",
      "10000/10000 [==============================] - 13s 1ms/step - loss: 1326.6937 - acc: 0.6411 - val_loss: 1660.7574 - val_acc: 0.5897\n",
      "Epoch 27/40\n",
      "10000/10000 [==============================] - 13s 1ms/step - loss: 1282.6058 - acc: 0.6461 - val_loss: 1178.2750 - val_acc: 0.6603\n",
      "Epoch 28/40\n",
      "10000/10000 [==============================] - 13s 1ms/step - loss: 1242.5951 - acc: 0.6543 - val_loss: 1290.6986 - val_acc: 0.6452\n",
      "Epoch 29/40\n",
      "10000/10000 [==============================] - 12s 1ms/step - loss: 1210.8059 - acc: 0.6587 - val_loss: 1209.4060 - val_acc: 0.6522\n",
      "Epoch 30/40\n",
      "10000/10000 [==============================] - 13s 1ms/step - loss: 1202.0140 - acc: 0.6547 - val_loss: 1225.5949 - val_acc: 0.6497\n",
      "Epoch 31/40\n",
      "10000/10000 [==============================] - 13s 1ms/step - loss: 1165.3375 - acc: 0.6687 - val_loss: 1107.7208 - val_acc: 0.6677\n",
      "Epoch 32/40\n",
      "10000/10000 [==============================] - 13s 1ms/step - loss: 1142.3789 - acc: 0.6672 - val_loss: 1192.9178 - val_acc: 0.6633\n",
      "Epoch 33/40\n",
      "10000/10000 [==============================] - 13s 1ms/step - loss: 1132.1315 - acc: 0.6717 - val_loss: 1239.2026 - val_acc: 0.6709\n",
      "Epoch 34/40\n",
      "10000/10000 [==============================] - 14s 1ms/step - loss: 1113.1480 - acc: 0.6752 - val_loss: 1062.6871 - val_acc: 0.6844\n",
      "Epoch 35/40\n",
      "10000/10000 [==============================] - 13s 1ms/step - loss: 1093.4558 - acc: 0.6742 - val_loss: 1191.2001 - val_acc: 0.6612\n",
      "Epoch 36/40\n",
      "10000/10000 [==============================] - 14s 1ms/step - loss: 1072.3567 - acc: 0.6843 - val_loss: 1183.2965 - val_acc: 0.6740\n",
      "Epoch 37/40\n",
      "10000/10000 [==============================] - 14s 1ms/step - loss: 1029.0023 - acc: 0.6919 - val_loss: 1012.6455 - val_acc: 0.6915\n",
      "Epoch 38/40\n",
      "10000/10000 [==============================] - 14s 1ms/step - loss: 948.9355 - acc: 0.7122 - val_loss: 865.9808 - val_acc: 0.7207\n",
      "Epoch 39/40\n",
      "10000/10000 [==============================] - 15s 1ms/step - loss: 850.2362 - acc: 0.7264 - val_loss: 824.1322 - val_acc: 0.7215\n",
      "Epoch 40/40\n",
      "10000/10000 [==============================] - 14s 1ms/step - loss: 773.0221 - acc: 0.7429 - val_loss: 952.5457 - val_acc: 0.7358\n",
      "10000/10000 [==============================] - 2s 230us/step\n"
     ]
    },
    {
     "data": {
      "text/plain": [
       "[952.5456611328125, 0.7358]"
      ]
     },
     "execution_count": 263,
     "metadata": {},
     "output_type": "execute_result"
    }
   ],
   "source": [
    "#ENTRENAMIENTO DE LA RED\n",
    "history = model.fit(x_train, y_train, validation_data=(x_test, y_test) ,epochs=40)\n",
    "\n",
    "\n",
    "#model.save_weights('first_try.h5') # Accuracy del 90% en el validation set y 88% en el test set\n",
    "#model.save('primer_intento') #\n",
    "\n",
    "model.save_weights('second_try.h5') # \n",
    "model.save('segundo_intento') #\n",
    "\n",
    "score = model.evaluate(x_test, y_test)\n",
    "score"
   ]
  },
  {
   "cell_type": "code",
   "execution_count": 264,
   "metadata": {},
   "outputs": [
    {
     "name": "stdout",
     "output_type": "stream",
     "text": [
      "dict_keys(['val_loss', 'val_acc', 'loss', 'acc'])\n"
     ]
    },
    {
     "data": {
      "image/png": "[encoded data removed]",
      "text/plain": [
       "<Figure size 432x288 with 1 Axes>"
      ]
     },
     "metadata": {
      "needs_background": "light"
     },
     "output_type": "display_data"
    },
    {
     "data": {
      "image/png": "[encoded data removed]",
      "text/plain": [
       "<Figure size 432x288 with 1 Axes>"
      ]
     },
     "metadata": {
      "needs_background": "light"
     },
     "output_type": "display_data"
    }
   ],
   "source": [
    "# list all data in history\n",
    "print(history.history.keys())\n",
    "# summarize history for accuracy\n",
    "plt.plot(history.history['acc'])\n",
    "plt.plot(history.history['val_acc'])\n",
    "plt.title('model accuracy')\n",
    "plt.ylabel('accuracy')\n",
    "plt.xlabel('epoch')\n",
    "plt.legend(['train', 'test'], loc='upper left')\n",
    "plt.show()\n",
    "# summarize history for loss\n",
    "plt.plot(history.history['loss'])\n",
    "plt.plot(history.history['val_loss'])\n",
    "plt.title('model loss')\n",
    "plt.ylabel('loss')\n",
    "plt.xlabel('epoch')\n",
    "plt.legend(['train', 'test'], loc='upper left')\n",
    "plt.show()"
   ]
  },
  {
   "cell_type": "code",
   "execution_count": 271,
   "metadata": {},
   "outputs": [
    {
     "name": "stdout",
     "output_type": "stream",
     "text": [
      "prediccion:  [[ 32.  86. 211.  48. 142.  23.]]\n",
      "valor posta:  [ 33.  88. 221.  50.  36.  33.]\n"
     ]
    },
    {
     "data": {
      "text/plain": [
       "<matplotlib.collections.PathCollection at 0x287b288f0b8>"
      ]
     },
     "execution_count": 271,
     "metadata": {},
     "output_type": "execute_result"
    },
    {
     "data": {
      "image/png": "[encoded data removed]",
      "text/plain": [
       "<Figure size 432x288 with 1 Axes>"
      ]
     },
     "metadata": {
      "needs_background": "light"
     },
     "output_type": "display_data"
    }
   ],
   "source": [
    "#AHORA PRUEBO CON VALORES FUERA DEL DATASET DE TRAINING\n",
    "#(correr este bloque repetidas veces y verificar que la prediccion y el valor verdadero se parecen)\n",
    "del X\n",
    "X = pixels()\n",
    "X.fillWithPixels()\n",
    "Z = np.zeros(1*16*6)\n",
    "Z = Z.reshape(1,16,6)\n",
    "\n",
    "for i in range(16):\n",
    "    for j in range(6):\n",
    "        if j == 0:\n",
    "            Z[0][i][j] = X[i].C1\n",
    "        if j == 1:\n",
    "            Z[0][i][j] = X[i].C2\n",
    "        if j == 2:\n",
    "            Z[0][i][j] = X[i].C3\n",
    "        if j == 3:\n",
    "            Z[0][i][j] = X[i].C4\n",
    "        if j == 4:\n",
    "            Z[0][i][j] = X[i].C5\n",
    "        if j == 5:\n",
    "            Z[0][i][j] = X[i].C6 \n",
    "\n",
    "entrada = Z[0][:15]\n",
    "entrada = entrada.reshape(1,15,6)\n",
    "Y = np.round(model.predict(entrada))\n",
    "print(\"prediccion: \",Y)\n",
    "print(\"valor posta: \",Z[0][15])\n",
    "\n",
    "#PLOTEO EL PRIMER CANAL\n",
    "\n",
    "absisas = [0,10,20,30,40,50,60,70,80,90,100,110,120,130,140,150]\n",
    "Canal1 = np.zeros(16)\n",
    "\n",
    "for i in range(16):\n",
    "    Canal1[i] = Z[0][i][0]\n",
    "\n",
    "plt.scatter(absisas,Canal1)\n",
    "plt.scatter(150,Y[0][0])"
   ]
  }
 ],
 "metadata": {
  "kernelspec": {
   "display_name": "Python 3",
   "language": "python",
   "name": "python3"
  },
  "language_info": {
   "codemirror_mode": {
    "name": "ipython",
    "version": 3
   },
   "file_extension": ".py",
   "mimetype": "text/x-python",
   "name": "python",
   "nbconvert_exporter": "python",
   "pygments_lexer": "ipython3",
   "version": "3.7.3"
  }
 },
 "nbformat": 4,
 "nbformat_minor": 2
}
