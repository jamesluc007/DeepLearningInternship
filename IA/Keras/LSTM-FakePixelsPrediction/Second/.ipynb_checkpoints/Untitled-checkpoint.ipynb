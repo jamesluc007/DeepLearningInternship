{
 "cells": [
  {
   "cell_type": "code",
   "execution_count": 2,
   "metadata": {},
   "outputs": [
    {
     "name": "stderr",
     "output_type": "stream",
     "text": [
      "Using TensorFlow backend.\n"
     ]
    }
   ],
   "source": [
    "import tensorflow as tf\n",
    "import tensorflow.keras as kr\n",
    "\n",
    "import numpy as np\n",
    "import scipy as sc\n",
    "import matplotlib.pyplot as plt\n",
    "import math as mth\n",
    "import random as random\n",
    "\n",
    "from keras.models import Sequential\n",
    "from keras.layers import Dense, Dropout\n",
    "from keras.layers import Embedding\n",
    "from keras.layers import LSTM"
   ]
  },
  {
   "cell_type": "code",
   "execution_count": 3,
   "metadata": {},
   "outputs": [],
   "source": [
    "#DECLARACION DE CLASES\n",
    "#Los vectores de 8 elementos se llaman X (x mayuscula)\n",
    "#Voy a generar un vector Y que es un vector de 1000 elemenos X. Con Y vamos a entrenar la red.\n",
    "\n",
    "class pixel:\n",
    "    #esta es la clase pixel, contiene tres canales de entre 0 y 255 cada uno\n",
    "    #por una cuestion de entendimiento los canales se van a llamar R,G y B pero no tiene nada que ver con los colores en si,\n",
    "    #son solo numeros\n",
    "    def __init__(self,tiempo,frecR = 1,frecG = 2, frecB = 5):\n",
    "        a = mth.floor(random.uniform(0,10)) #Aqui esta la aleatoriedad necesaria para entrenar bien\n",
    "        b = mth.floor(random.uniform(0,10))\n",
    "        self.R = mth.floor((127 * mth.sin(frecR*tiempo + a)) + 128 + b) #Aqui genero los tres canales del pixel\n",
    "        self.G = mth.floor((127 * mth.sin(frecG*tiempo + a)) + 128 + b)\n",
    "        self.B = mth.floor((127 * mth.sin(frecB*tiempo + a)) + 128 + b)\n",
    "        #Esto se hace para que los valores sigan dentro del rango 0-255 :\n",
    "        if self.R > 255: \n",
    "            self.R = 255\n",
    "        if self.G > 255: \n",
    "            self.G = 255\n",
    "        if self.B > 255: \n",
    "            self.B = 255\n",
    "        if self.R < 0: \n",
    "            self.R = 0\n",
    "        if self.G < 0: \n",
    "            self.G = 0\n",
    "        if self.B < 0: \n",
    "            self.B = 0\n",
    "    def getData(self): #Esto es para visualizar rapido en caso de que sea necesario\n",
    "        print(\"R:\",self.R, \"G:\",self.G, \"B:\", self.B)\n",
    "        \n",
    "class pixels(list): #Esta es la clase de 8 elementos (cada elemento es un pixel)\n",
    "    def fillWithPixels(self, cantElementos = 8):\n",
    "        for x in range(cantElementos):\n",
    "            #print(\"Iteracion numero \", x)\n",
    "            self.append(pixel(x))"
   ]
  },
  {
   "cell_type": "code",
   "execution_count": 4,
   "metadata": {},
   "outputs": [
    {
     "name": "stdout",
     "output_type": "stream",
     "text": [
      "R: 98 G: 98 B: 98\n",
      "R: 249 G: 151 B: 98\n",
      "R: 150 G: 11 B: 6\n",
      "R: 153 G: 100 B: 218\n",
      "R: 255 G: 65 B: 18\n",
      "R: 186 G: 255 B: 49\n",
      "R: 97 G: 64 B: 7\n",
      "R: 182 G: 93 B: 48\n"
     ]
    }
   ],
   "source": [
    "#prueba:\n",
    "X = pixels()\n",
    "X.fillWithPixels()\n",
    "X[0].getData()\n",
    "X[1].getData()\n",
    "X[2].getData()\n",
    "X[3].getData()\n",
    "X[4].getData()\n",
    "X[5].getData()\n",
    "X[6].getData()\n",
    "X[7].getData()"
   ]
  },
  {
   "cell_type": "code",
   "execution_count": 5,
   "metadata": {},
   "outputs": [
    {
     "name": "stdout",
     "output_type": "stream",
     "text": [
      "R: 31 G: 253 B: 243\n"
     ]
    }
   ],
   "source": [
    "#GENERACION DEL DATASET DE ENTRENAMIENTO\n",
    "#Quiero una matriz de 1000 filas. Cada fila es un vector de pixels.\n",
    "\n",
    "size = 1000\n",
    "dataset = []\n",
    "\n",
    "for x in range(size):\n",
    "    dataset.append(pixels())\n",
    "    dataset[x].fillWithPixels()        \n",
    "\n",
    "    \n",
    "#prueba:\n",
    "\n",
    "dataset[258][4].getData()"
   ]
  },
  {
   "cell_type": "code",
   "execution_count": 35,
   "metadata": {},
   "outputs": [],
   "source": [
    "#PREPARACION DEL DATASET PARA ENTRENAMIENTO\n",
    "#Aqui voy a preparar el dataset para que sea compatible con la red y pueda ser usado para entrenarla:\n",
    "#Seguramente tenga que convertir todo a tensores con las librerias scipy y/o numpy\n",
    "\n",
    "x_train = dataset\n",
    "y_train = dataset[:][7]"
   ]
  },
  {
   "cell_type": "code",
   "execution_count": null,
   "metadata": {},
   "outputs": [],
   "source": []
  },
  {
   "cell_type": "code",
   "execution_count": 28,
   "metadata": {},
   "outputs": [],
   "source": [
    "#DEFINICION DE ARQUITECTURA DE RED NEURONAL\n",
    "\n",
    "input_dim = 8 #segun documentacion de keras, debe ser el indice de entrada mas grande + 1\n",
    "model = Sequential() #Creo la red neuronal\n",
    "model.add(Embedding(input_dim, output_dim=256)) #Agrego la capa embedding. Suele ser la primer capa de un red en keras, siempre.\n",
    "model.add(LSTM(128)) #Agrego una capa LSTM\n",
    "model.add(Dropout(0.5)) #Agrego capa de Dropout\n",
    "#model.add(Dense(1, activation='sigmoid'))"
   ]
  },
  {
   "cell_type": "code",
   "execution_count": 29,
   "metadata": {},
   "outputs": [],
   "source": [
    "#COMPILACION DE LA RED\n",
    "model.compile(loss='binary_crossentropy',\n",
    "              optimizer='rmsprop',\n",
    "              metrics=['accuracy'])"
   ]
  },
  {
   "cell_type": "code",
   "execution_count": 10,
   "metadata": {},
   "outputs": [],
   "source": [
    "#ENTRENAMIENTO DE LA RED\n",
    "#model.fit(x_train, y_train, batch_size=16, epochs=10)\n",
    "#model.save_weights(\"\\first_try.h5\")\n",
    "#score = model.evaluate(x_test, y_test, batch_size=16)"
   ]
  }
 ],
 "metadata": {
  "kernelspec": {
   "display_name": "Python 3",
   "language": "python",
   "name": "python3"
  },
  "language_info": {
   "codemirror_mode": {
    "name": "ipython",
    "version": 3
   },
   "file_extension": ".py",
   "mimetype": "text/x-python",
   "name": "python",
   "nbconvert_exporter": "python",
   "pygments_lexer": "ipython3",
   "version": "3.7.3"
  }
 },
 "nbformat": 4,
 "nbformat_minor": 2
}
