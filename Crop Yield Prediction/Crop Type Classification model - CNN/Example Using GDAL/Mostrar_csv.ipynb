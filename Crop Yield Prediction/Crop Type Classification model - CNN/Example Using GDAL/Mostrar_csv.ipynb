import pandas as pd
from geopandas import GeoDataFrame
from shapely.geometry import Point
import matplotlib.pyplot as plt

file_svc = "C:\\Users\SAREN80\Documents\Bolsa de Cereales2017\Transectas\Datos_transectas\T18_Bolivar_ejemplo.csv"
df = pd.read_csv(file_svc)
#print(df.head())

geometry = [Point(xy) for xy in zip(df.Lat1, df.Long1)]
#df = df.drop(['Lat1', 'Long1'], axis=1)
crs = {'init': 'epsg:4326'}
gdf = GeoDataFrame(df, crs=crs, geometry=geometry) #convert a data frame to a geodataFrame
#print(gdf.head())
print(gdf.geometry)
gdf.plot(marker='*', color='green', markersize=50, figsize=(3, 3));

#geo_df.to_file(driver='ESRI Shapefile', filename='data.shp')
type(gdf)
