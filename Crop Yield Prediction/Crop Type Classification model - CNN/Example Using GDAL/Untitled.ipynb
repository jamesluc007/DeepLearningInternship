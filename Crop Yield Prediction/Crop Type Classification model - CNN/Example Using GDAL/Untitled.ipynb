{
 "cells": [
  {
   "cell_type": "code",
   "execution_count": 23,
   "metadata": {},
   "outputs": [],
   "source": [
    "import pandas as pd\n",
    "import geopandas\n",
    "from geopandas import GeoDataFrame\n",
    "from shapely.geometry import Point\n",
    "import matplotlib.pyplot as plt"
   ]
  },
  {
   "cell_type": "code",
   "execution_count": 60,
   "metadata": {},
   "outputs": [
    {
     "name": "stdout",
     "output_type": "stream",
     "text": [
      "       Lat1     Long1    EstadoCultivo\n",
      "0 -37.75737 -61.14537         Barbecho\n",
      "1 -37.78152 -61.15872  Verdeo invierno\n",
      "2 -37.78248 -61.17755         Barbecho\n",
      "3 -37.78018 -61.17357    Campo natural\n",
      "4 -37.78850 -61.18501    Campo natural\n"
     ]
    }
   ],
   "source": [
    "file_svc = \"C:\\\\Users\\\\Administrador\\Desktop\\DeepLearningInternship\\Crop Yield Prediction\\Crop Type Classification model - CNN\\First\\T28_Pringles4.csv\"\n",
    "df = pd.read_csv(file_svc)\n",
    "print(df.head())"
   ]
  },
  {
   "cell_type": "code",
   "execution_count": 61,
   "metadata": {},
   "outputs": [],
   "source": [
    "geometry = [Point(xy) for xy in zip(df['Lat1'], df['Long1'])]"
   ]
  },
  {
   "cell_type": "code",
   "execution_count": 62,
   "metadata": {},
   "outputs": [
    {
     "name": "stdout",
     "output_type": "stream",
     "text": [
      "0     POINT (-37.75737 -61.14536999999999)\n",
      "1              POINT (-37.78152 -61.15872)\n",
      "2              POINT (-37.78248 -61.17755)\n",
      "3              POINT (-37.78018 -61.17357)\n",
      "4               POINT (-37.7885 -61.18501)\n",
      "5              POINT (-37.78646 -61.18085)\n",
      "6                 POINT (-37.79 -61.20136)\n",
      "7              POINT (-37.79074 -61.18747)\n",
      "8               POINT (-37.79963 -61.1985)\n",
      "9              POINT (-37.80023 -61.18859)\n",
      "10             POINT (-37.80909 -61.21119)\n",
      "11     POINT (-37.75915999999999 -61.1469)\n",
      "12             POINT (-37.79913 -61.19775)\n",
      "13             POINT (-37.81844 -61.20743)\n",
      "14             POINT (-37.80008 -61.19905)\n",
      "15              POINT (-37.8266 -61.20947)\n",
      "16             POINT (-37.80436 -61.20366)\n",
      "17              POINT (-37.83278 -61.2059)\n",
      "18     POINT (-37.80954000000001 -61.2071)\n",
      "19             POINT (-37.83998 -61.20491)\n",
      "20             POINT (-37.81549 -61.20011)\n",
      "21             POINT (-37.84632 -61.20964)\n",
      "22             POINT (-37.75344 -61.15826)\n",
      "23    POINT (-37.82523 -61.19668000000001)\n",
      "24    POINT (-37.85136 -61.20673000000001)\n",
      "25    POINT (-37.83011 -61.20511999999999)\n",
      "26             POINT (-37.85282 -61.20796)\n",
      "27    POINT (-37.84133 -61.20441999999999)\n",
      "28             POINT (-37.85889 -61.21115)\n",
      "29             POINT (-37.85338 -61.20486)\n",
      "                      ...                 \n",
      "41    POINT (-37.90300999999999 -61.24544)\n",
      "42             POINT (-37.87786 -61.22022)\n",
      "43             POINT (-37.90213 -61.25385)\n",
      "44             POINT (-37.76391 -61.15364)\n",
      "45               POINT (-37.8917 -61.2179)\n",
      "46             POINT (-37.90903 -61.25344)\n",
      "47             POINT (-37.89423 -61.23295)\n",
      "48    POINT (-37.91059 -61.25541999999999)\n",
      "49             POINT (-37.89584 -61.23568)\n",
      "50              POINT (-37.90996 -61.2643)\n",
      "51    POINT (-37.90361 -61.24498000000001)\n",
      "52              POINT (-37.91393 -61.2594)\n",
      "53             POINT (-37.90505 -61.24818)\n",
      "54              POINT (-37.9158 -61.26169)\n",
      "55    POINT (-37.76595 -61.15541999999999)\n",
      "56             POINT (-37.90777 -61.25101)\n",
      "57             POINT (-37.91961 -61.26699)\n",
      "58             POINT (-37.91745 -61.25214)\n",
      "59             POINT (-37.92047 -61.27615)\n",
      "60              POINT (-37.92017 -61.2668)\n",
      "61             POINT (-37.92843 -61.27757)\n",
      "62    POINT (-37.92013 -61.26671999999999)\n",
      "63     POINT (-37.93295999999999 -61.2832)\n",
      "64              POINT (-37.9332 -61.27244)\n",
      "65              POINT (-37.9375 -61.28919)\n",
      "66             POINT (-37.77156 -61.16342)\n",
      "67    POINT (-37.93561 -61.28655999999999)\n",
      "68             POINT (-37.94165 -61.29232)\n",
      "69             POINT (-37.77042 -61.16032)\n",
      "70    POINT (-37.77145 -61.17118000000001)\n",
      "Name: geometry, Length: 71, dtype: object\n"
     ]
    },
    {
     "data": {
      "text/plain": [
       "geopandas.geodataframe.GeoDataFrame"
      ]
     },
     "execution_count": 62,
     "metadata": {},
     "output_type": "execute_result"
    },
    {
     "data": {
      "image/png": "[encoded data removed]",
      "text/plain": [
       "<Figure size 216x216 with 1 Axes>"
      ]
     },
     "metadata": {
      "needs_background": "light"
     },
     "output_type": "display_data"
    }
   ],
   "source": [
    "#df = df.drop(['Lat1', 'Long1'], axis=1)\n",
    "crs = {'init': 'epsg:4326'}\n",
    "gdf = GeoDataFrame(df, crs=crs, geometry=geometry) #convert a data frame to a geodataFrame\n",
    "#print(gdf.head())\n",
    "print(gdf.geometry)\n",
    "gdf.plot(marker='*', color='green', markersize=50, figsize=(3, 3));\n",
    "\n",
    "#geo_df.to_file(driver='ESRI Shapefile', filename='data.shp')\n",
    "type(gdf)"
   ]
  },
  {
   "cell_type": "code",
   "execution_count": 63,
   "metadata": {},
   "outputs": [],
   "source": [
    "from PIL import Image, ImageDraw\n",
    "import sys, os\n",
    "from osgeo import gdal_array\n",
    "import numpy as np\n",
    "import matplotlib.pyplot as plt\n",
    "import geoio\n",
    "\n",
    "#from osgeo \n",
    "\n",
    "import gdal, gdalnumeric, ogr, osr\n",
    "import pyproj"
   ]
  },
  {
   "cell_type": "code",
   "execution_count": 65,
   "metadata": {},
   "outputs": [],
   "source": [
    "b1 = r\"E:\\Imágenes Satelitales\\2017\\226_86\\1\\LC08_L1TP_226086_20170116_20170311_01_T1_sr_band1.tif\"\n",
    "band1 = gdal.Open(b1, gdal.GA_ReadOnly)\n",
    "proj = band1.GetProjection()"
   ]
  },
  {
   "cell_type": "code",
   "execution_count": 70,
   "metadata": {},
   "outputs": [
    {
     "ename": "RuntimeError",
     "evalue": "b'no arguments in initialization list'",
     "output_type": "error",
     "traceback": [
      "\u001b[1;31m---------------------------------------------------------------------------\u001b[0m",
      "\u001b[1;31mRuntimeError\u001b[0m                              Traceback (most recent call last)",
      "\u001b[1;32m<ipython-input-70-2024906c7b98>\u001b[0m in \u001b[0;36m<module>\u001b[1;34m\u001b[0m\n\u001b[1;32m----> 1\u001b[1;33m \u001b[0mgdf\u001b[0m\u001b[1;33m.\u001b[0m\u001b[0mto_crs\u001b[0m\u001b[1;33m(\u001b[0m\u001b[0mproj\u001b[0m\u001b[1;33m)\u001b[0m\u001b[1;33m.\u001b[0m\u001b[0mplot\u001b[0m\u001b[1;33m(\u001b[0m\u001b[1;33m)\u001b[0m\u001b[1;33m\u001b[0m\u001b[1;33m\u001b[0m\u001b[0m\n\u001b[0m",
      "\u001b[1;32mD:\\Programas\\AnacondaFinal\\lib\\site-packages\\geopandas\\geodataframe.py\u001b[0m in \u001b[0;36mto_crs\u001b[1;34m(self, crs, epsg, inplace)\u001b[0m\n\u001b[0;32m    441\u001b[0m         \u001b[1;32melse\u001b[0m\u001b[1;33m:\u001b[0m\u001b[1;33m\u001b[0m\u001b[1;33m\u001b[0m\u001b[0m\n\u001b[0;32m    442\u001b[0m             \u001b[0mdf\u001b[0m \u001b[1;33m=\u001b[0m \u001b[0mself\u001b[0m\u001b[1;33m.\u001b[0m\u001b[0mcopy\u001b[0m\u001b[1;33m(\u001b[0m\u001b[1;33m)\u001b[0m\u001b[1;33m\u001b[0m\u001b[1;33m\u001b[0m\u001b[0m\n\u001b[1;32m--> 443\u001b[1;33m         \u001b[0mgeom\u001b[0m \u001b[1;33m=\u001b[0m \u001b[0mdf\u001b[0m\u001b[1;33m.\u001b[0m\u001b[0mgeometry\u001b[0m\u001b[1;33m.\u001b[0m\u001b[0mto_crs\u001b[0m\u001b[1;33m(\u001b[0m\u001b[0mcrs\u001b[0m\u001b[1;33m=\u001b[0m\u001b[0mcrs\u001b[0m\u001b[1;33m,\u001b[0m \u001b[0mepsg\u001b[0m\u001b[1;33m=\u001b[0m\u001b[0mepsg\u001b[0m\u001b[1;33m)\u001b[0m\u001b[1;33m\u001b[0m\u001b[1;33m\u001b[0m\u001b[0m\n\u001b[0m\u001b[0;32m    444\u001b[0m         \u001b[0mdf\u001b[0m\u001b[1;33m.\u001b[0m\u001b[0mgeometry\u001b[0m \u001b[1;33m=\u001b[0m \u001b[0mgeom\u001b[0m\u001b[1;33m\u001b[0m\u001b[1;33m\u001b[0m\u001b[0m\n\u001b[0;32m    445\u001b[0m         \u001b[0mdf\u001b[0m\u001b[1;33m.\u001b[0m\u001b[0mcrs\u001b[0m \u001b[1;33m=\u001b[0m \u001b[0mgeom\u001b[0m\u001b[1;33m.\u001b[0m\u001b[0mcrs\u001b[0m\u001b[1;33m\u001b[0m\u001b[1;33m\u001b[0m\u001b[0m\n",
      "\u001b[1;32mD:\\Programas\\AnacondaFinal\\lib\\site-packages\\geopandas\\geoseries.py\u001b[0m in \u001b[0;36mto_crs\u001b[1;34m(self, crs, epsg)\u001b[0m\n\u001b[0;32m    302\u001b[0m             \u001b[1;32mexcept\u001b[0m \u001b[0mTypeError\u001b[0m\u001b[1;33m:\u001b[0m\u001b[1;33m\u001b[0m\u001b[1;33m\u001b[0m\u001b[0m\n\u001b[0;32m    303\u001b[0m                 \u001b[1;32mraise\u001b[0m \u001b[0mTypeError\u001b[0m\u001b[1;33m(\u001b[0m\u001b[1;34m'Must set either crs or epsg for output.'\u001b[0m\u001b[1;33m)\u001b[0m\u001b[1;33m\u001b[0m\u001b[1;33m\u001b[0m\u001b[0m\n\u001b[1;32m--> 304\u001b[1;33m         \u001b[0mproj_in\u001b[0m \u001b[1;33m=\u001b[0m \u001b[0mpyproj\u001b[0m\u001b[1;33m.\u001b[0m\u001b[0mProj\u001b[0m\u001b[1;33m(\u001b[0m\u001b[0mself\u001b[0m\u001b[1;33m.\u001b[0m\u001b[0mcrs\u001b[0m\u001b[1;33m,\u001b[0m \u001b[0mpreserve_units\u001b[0m\u001b[1;33m=\u001b[0m\u001b[1;32mTrue\u001b[0m\u001b[1;33m)\u001b[0m\u001b[1;33m\u001b[0m\u001b[1;33m\u001b[0m\u001b[0m\n\u001b[0m\u001b[0;32m    305\u001b[0m         \u001b[0mproj_out\u001b[0m \u001b[1;33m=\u001b[0m \u001b[0mpyproj\u001b[0m\u001b[1;33m.\u001b[0m\u001b[0mProj\u001b[0m\u001b[1;33m(\u001b[0m\u001b[0mcrs\u001b[0m\u001b[1;33m,\u001b[0m \u001b[0mpreserve_units\u001b[0m\u001b[1;33m=\u001b[0m\u001b[1;32mTrue\u001b[0m\u001b[1;33m)\u001b[0m\u001b[1;33m\u001b[0m\u001b[1;33m\u001b[0m\u001b[0m\n\u001b[0;32m    306\u001b[0m         \u001b[0mproject\u001b[0m \u001b[1;33m=\u001b[0m \u001b[0mpartial\u001b[0m\u001b[1;33m(\u001b[0m\u001b[0mpyproj\u001b[0m\u001b[1;33m.\u001b[0m\u001b[0mtransform\u001b[0m\u001b[1;33m,\u001b[0m \u001b[0mproj_in\u001b[0m\u001b[1;33m,\u001b[0m \u001b[0mproj_out\u001b[0m\u001b[1;33m)\u001b[0m\u001b[1;33m\u001b[0m\u001b[1;33m\u001b[0m\u001b[0m\n",
      "\u001b[1;32mD:\\Programas\\AnacondaFinal\\lib\\site-packages\\pyproj\\__init__.py\u001b[0m in \u001b[0;36m__new__\u001b[1;34m(self, projparams, preserve_units, **kwargs)\u001b[0m\n\u001b[0;32m    360\u001b[0m         \u001b[1;31m# on case-insensitive filesystems).\u001b[0m\u001b[1;33m\u001b[0m\u001b[1;33m\u001b[0m\u001b[1;33m\u001b[0m\u001b[0m\n\u001b[0;32m    361\u001b[0m         \u001b[0mprojstring\u001b[0m \u001b[1;33m=\u001b[0m \u001b[0mprojstring\u001b[0m\u001b[1;33m.\u001b[0m\u001b[0mreplace\u001b[0m\u001b[1;33m(\u001b[0m\u001b[1;34m'EPSG'\u001b[0m\u001b[1;33m,\u001b[0m\u001b[1;34m'epsg'\u001b[0m\u001b[1;33m)\u001b[0m\u001b[1;33m\u001b[0m\u001b[1;33m\u001b[0m\u001b[0m\n\u001b[1;32m--> 362\u001b[1;33m         \u001b[1;32mreturn\u001b[0m \u001b[0m_proj\u001b[0m\u001b[1;33m.\u001b[0m\u001b[0mProj\u001b[0m\u001b[1;33m.\u001b[0m\u001b[0m__new__\u001b[0m\u001b[1;33m(\u001b[0m\u001b[0mself\u001b[0m\u001b[1;33m,\u001b[0m \u001b[0mprojstring\u001b[0m\u001b[1;33m)\u001b[0m\u001b[1;33m\u001b[0m\u001b[1;33m\u001b[0m\u001b[0m\n\u001b[0m\u001b[0;32m    363\u001b[0m \u001b[1;33m\u001b[0m\u001b[0m\n\u001b[0;32m    364\u001b[0m     \u001b[1;32mdef\u001b[0m \u001b[0m__call__\u001b[0m\u001b[1;33m(\u001b[0m\u001b[0mself\u001b[0m\u001b[1;33m,\u001b[0m \u001b[1;33m*\u001b[0m\u001b[0margs\u001b[0m\u001b[1;33m,\u001b[0m \u001b[1;33m**\u001b[0m\u001b[0mkw\u001b[0m\u001b[1;33m)\u001b[0m\u001b[1;33m:\u001b[0m\u001b[1;33m\u001b[0m\u001b[1;33m\u001b[0m\u001b[0m\n",
      "\u001b[1;32m_proj.pyx\u001b[0m in \u001b[0;36m_proj.Proj.__cinit__\u001b[1;34m()\u001b[0m\n",
      "\u001b[1;31mRuntimeError\u001b[0m: b'no arguments in initialization list'"
     ]
    }
   ],
   "source": [
    "gdf.to_crs(proj).plot()"
   ]
  }
 ],
 "metadata": {
  "kernelspec": {
   "display_name": "Python 3",
   "language": "python",
   "name": "python3"
  },
  "language_info": {
   "codemirror_mode": {
    "name": "ipython",
    "version": 3
   },
   "file_extension": ".py",
   "mimetype": "text/x-python",
   "name": "python",
   "nbconvert_exporter": "python",
   "pygments_lexer": "ipython3",
   "version": "3.7.3"
  }
 },
 "nbformat": 4,
 "nbformat_minor": 2
}
